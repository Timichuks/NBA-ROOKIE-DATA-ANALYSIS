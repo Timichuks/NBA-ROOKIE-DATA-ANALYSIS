{
 "cells": [
  {
   "cell_type": "code",
   "execution_count": 1,
   "id": "db587a37",
   "metadata": {},
   "outputs": [],
   "source": [
    "#importing libraries\n",
    "import numpy as np \n",
    "import pandas as pd \n",
    "import matplotlib.pyplot as plt \n",
    "import seaborn as sns\n",
    "\n",
    "# sklearn for machine learning in python:\n",
    "from sklearn.model_selection import train_test_split \n",
    "from sklearn.linear_model import LogisticRegression\n",
    "from sklearn.naive_bayes import GaussianNB\n",
    "from sklearn.metrics import mean_squared_error, r2_score\n",
    "from sklearn.datasets import make_classification\n",
    "from sklearn.preprocessing import LabelEncoder, MinMaxScaler, StandardScaler\n",
    "from sklearn.neural_network import MLPClassifier\n",
    "from sklearn.metrics import confusion_matrix\n",
    "from sklearn.metrics import classification_report\n",
    "from sklearn import metrics"
   ]
  },
  {
   "cell_type": "code",
   "execution_count": 2,
   "id": "bf7b0e7e",
   "metadata": {},
   "outputs": [
    {
     "data": {
      "text/html": [
       "<div>\n",
       "<style scoped>\n",
       "    .dataframe tbody tr th:only-of-type {\n",
       "        vertical-align: middle;\n",
       "    }\n",
       "\n",
       "    .dataframe tbody tr th {\n",
       "        vertical-align: top;\n",
       "    }\n",
       "\n",
       "    .dataframe thead th {\n",
       "        text-align: right;\n",
       "    }\n",
       "</style>\n",
       "<table border=\"1\" class=\"dataframe\">\n",
       "  <thead>\n",
       "    <tr style=\"text-align: right;\">\n",
       "      <th></th>\n",
       "      <th>Name</th>\n",
       "      <th>Games Played</th>\n",
       "      <th>Minutes Played</th>\n",
       "      <th>Points Per Game</th>\n",
       "      <th>Field Goals Made</th>\n",
       "      <th>Field Goal Attempts</th>\n",
       "      <th>Field Goal Percent</th>\n",
       "      <th>3 Point Made</th>\n",
       "      <th>3 Point Attempt</th>\n",
       "      <th>3 Point Percent</th>\n",
       "      <th>...</th>\n",
       "      <th>Free Throw Attempts</th>\n",
       "      <th>Free Throw Percent</th>\n",
       "      <th>Offensive Rebounds</th>\n",
       "      <th>Defensive Rebounds</th>\n",
       "      <th>Rebounds</th>\n",
       "      <th>Assists</th>\n",
       "      <th>Steals</th>\n",
       "      <th>Blocks</th>\n",
       "      <th>Turnovers</th>\n",
       "      <th>TARGET_5Yrs</th>\n",
       "    </tr>\n",
       "  </thead>\n",
       "  <tbody>\n",
       "    <tr>\n",
       "      <th>0</th>\n",
       "      <td>Brandon Ingram</td>\n",
       "      <td>36</td>\n",
       "      <td>27.4</td>\n",
       "      <td>7.4</td>\n",
       "      <td>2.6</td>\n",
       "      <td>7.6</td>\n",
       "      <td>34.7</td>\n",
       "      <td>0.5</td>\n",
       "      <td>2.1</td>\n",
       "      <td>25.0</td>\n",
       "      <td>...</td>\n",
       "      <td>2.3</td>\n",
       "      <td>69.9</td>\n",
       "      <td>0.7</td>\n",
       "      <td>3.4</td>\n",
       "      <td>4.1</td>\n",
       "      <td>1.9</td>\n",
       "      <td>0.4</td>\n",
       "      <td>0.4</td>\n",
       "      <td>1.3</td>\n",
       "      <td>0</td>\n",
       "    </tr>\n",
       "    <tr>\n",
       "      <th>1</th>\n",
       "      <td>Andrew Harrison</td>\n",
       "      <td>35</td>\n",
       "      <td>26.9</td>\n",
       "      <td>7.2</td>\n",
       "      <td>2.0</td>\n",
       "      <td>6.7</td>\n",
       "      <td>29.6</td>\n",
       "      <td>0.7</td>\n",
       "      <td>2.8</td>\n",
       "      <td>23.5</td>\n",
       "      <td>...</td>\n",
       "      <td>3.4</td>\n",
       "      <td>76.5</td>\n",
       "      <td>0.5</td>\n",
       "      <td>2.0</td>\n",
       "      <td>2.4</td>\n",
       "      <td>3.7</td>\n",
       "      <td>1.1</td>\n",
       "      <td>0.5</td>\n",
       "      <td>1.6</td>\n",
       "      <td>0</td>\n",
       "    </tr>\n",
       "    <tr>\n",
       "      <th>2</th>\n",
       "      <td>JaKarr Sampson</td>\n",
       "      <td>74</td>\n",
       "      <td>15.3</td>\n",
       "      <td>5.2</td>\n",
       "      <td>2.0</td>\n",
       "      <td>4.7</td>\n",
       "      <td>42.2</td>\n",
       "      <td>0.4</td>\n",
       "      <td>1.7</td>\n",
       "      <td>24.4</td>\n",
       "      <td>...</td>\n",
       "      <td>1.3</td>\n",
       "      <td>67.0</td>\n",
       "      <td>0.5</td>\n",
       "      <td>1.7</td>\n",
       "      <td>2.2</td>\n",
       "      <td>1.0</td>\n",
       "      <td>0.5</td>\n",
       "      <td>0.3</td>\n",
       "      <td>1.0</td>\n",
       "      <td>0</td>\n",
       "    </tr>\n",
       "    <tr>\n",
       "      <th>3</th>\n",
       "      <td>Malik Sealy</td>\n",
       "      <td>58</td>\n",
       "      <td>11.6</td>\n",
       "      <td>5.7</td>\n",
       "      <td>2.3</td>\n",
       "      <td>5.5</td>\n",
       "      <td>42.6</td>\n",
       "      <td>0.1</td>\n",
       "      <td>0.5</td>\n",
       "      <td>22.6</td>\n",
       "      <td>...</td>\n",
       "      <td>1.3</td>\n",
       "      <td>68.9</td>\n",
       "      <td>1.0</td>\n",
       "      <td>0.9</td>\n",
       "      <td>1.9</td>\n",
       "      <td>0.8</td>\n",
       "      <td>0.6</td>\n",
       "      <td>0.1</td>\n",
       "      <td>1.0</td>\n",
       "      <td>1</td>\n",
       "    </tr>\n",
       "    <tr>\n",
       "      <th>4</th>\n",
       "      <td>Matt Geiger</td>\n",
       "      <td>48</td>\n",
       "      <td>11.5</td>\n",
       "      <td>4.5</td>\n",
       "      <td>1.6</td>\n",
       "      <td>3.0</td>\n",
       "      <td>52.4</td>\n",
       "      <td>0.0</td>\n",
       "      <td>0.1</td>\n",
       "      <td>0.0</td>\n",
       "      <td>...</td>\n",
       "      <td>1.9</td>\n",
       "      <td>67.4</td>\n",
       "      <td>1.0</td>\n",
       "      <td>1.5</td>\n",
       "      <td>2.5</td>\n",
       "      <td>0.3</td>\n",
       "      <td>0.3</td>\n",
       "      <td>0.4</td>\n",
       "      <td>0.8</td>\n",
       "      <td>1</td>\n",
       "    </tr>\n",
       "  </tbody>\n",
       "</table>\n",
       "<p>5 rows × 21 columns</p>\n",
       "</div>"
      ],
      "text/plain": [
       "              Name  Games Played  Minutes Played  Points Per Game  \\\n",
       "0   Brandon Ingram            36            27.4              7.4   \n",
       "1  Andrew Harrison            35            26.9              7.2   \n",
       "2   JaKarr Sampson            74            15.3              5.2   \n",
       "3      Malik Sealy            58            11.6              5.7   \n",
       "4      Matt Geiger            48            11.5              4.5   \n",
       "\n",
       "   Field Goals Made  Field Goal Attempts  Field Goal Percent  3 Point Made  \\\n",
       "0               2.6                  7.6                34.7           0.5   \n",
       "1               2.0                  6.7                29.6           0.7   \n",
       "2               2.0                  4.7                42.2           0.4   \n",
       "3               2.3                  5.5                42.6           0.1   \n",
       "4               1.6                  3.0                52.4           0.0   \n",
       "\n",
       "   3 Point Attempt  3 Point Percent  ...  Free Throw Attempts  \\\n",
       "0              2.1             25.0  ...                  2.3   \n",
       "1              2.8             23.5  ...                  3.4   \n",
       "2              1.7             24.4  ...                  1.3   \n",
       "3              0.5             22.6  ...                  1.3   \n",
       "4              0.1              0.0  ...                  1.9   \n",
       "\n",
       "   Free Throw Percent  Offensive Rebounds  Defensive Rebounds  Rebounds  \\\n",
       "0                69.9                 0.7                 3.4       4.1   \n",
       "1                76.5                 0.5                 2.0       2.4   \n",
       "2                67.0                 0.5                 1.7       2.2   \n",
       "3                68.9                 1.0                 0.9       1.9   \n",
       "4                67.4                 1.0                 1.5       2.5   \n",
       "\n",
       "   Assists  Steals  Blocks  Turnovers  TARGET_5Yrs  \n",
       "0      1.9     0.4     0.4        1.3            0  \n",
       "1      3.7     1.1     0.5        1.6            0  \n",
       "2      1.0     0.5     0.3        1.0            0  \n",
       "3      0.8     0.6     0.1        1.0            1  \n",
       "4      0.3     0.3     0.4        0.8            1  \n",
       "\n",
       "[5 rows x 21 columns]"
      ]
     },
     "execution_count": 2,
     "metadata": {},
     "output_type": "execute_result"
    }
   ],
   "source": [
    "# import file\n",
    "df=pd.read_csv('nba_rookie_data.csv')\n",
    "df.head()"
   ]
  },
  {
   "cell_type": "code",
   "execution_count": 3,
   "id": "d1fddb40",
   "metadata": {},
   "outputs": [
    {
     "data": {
      "text/plain": [
       "(1340, 21)"
      ]
     },
     "execution_count": 3,
     "metadata": {},
     "output_type": "execute_result"
    }
   ],
   "source": [
    "df.shape"
   ]
  },
  {
   "cell_type": "code",
   "execution_count": 4,
   "id": "eec85ef1",
   "metadata": {},
   "outputs": [
    {
     "name": "stdout",
     "output_type": "stream",
     "text": [
      "<class 'pandas.core.frame.DataFrame'>\n",
      "RangeIndex: 1340 entries, 0 to 1339\n",
      "Data columns (total 21 columns):\n",
      " #   Column               Non-Null Count  Dtype  \n",
      "---  ------               --------------  -----  \n",
      " 0   Name                 1340 non-null   object \n",
      " 1   Games Played         1340 non-null   int64  \n",
      " 2   Minutes Played       1340 non-null   float64\n",
      " 3   Points Per Game      1340 non-null   float64\n",
      " 4   Field Goals Made     1340 non-null   float64\n",
      " 5   Field Goal Attempts  1340 non-null   float64\n",
      " 6   Field Goal Percent   1340 non-null   float64\n",
      " 7   3 Point Made         1340 non-null   float64\n",
      " 8   3 Point Attempt      1340 non-null   float64\n",
      " 9   3 Point Percent      1329 non-null   float64\n",
      " 10  Free Throw Made      1340 non-null   float64\n",
      " 11  Free Throw Attempts  1340 non-null   float64\n",
      " 12  Free Throw Percent   1340 non-null   float64\n",
      " 13  Offensive Rebounds   1340 non-null   float64\n",
      " 14  Defensive Rebounds   1340 non-null   float64\n",
      " 15  Rebounds             1340 non-null   float64\n",
      " 16  Assists              1340 non-null   float64\n",
      " 17  Steals               1340 non-null   float64\n",
      " 18  Blocks               1340 non-null   float64\n",
      " 19  Turnovers            1340 non-null   float64\n",
      " 20  TARGET_5Yrs          1340 non-null   int64  \n",
      "dtypes: float64(18), int64(2), object(1)\n",
      "memory usage: 220.0+ KB\n"
     ]
    },
    {
     "data": {
      "text/plain": [
       "Name                    0\n",
       "Games Played            0\n",
       "Minutes Played          0\n",
       "Points Per Game         0\n",
       "Field Goals Made        0\n",
       "Field Goal Attempts     0\n",
       "Field Goal Percent      0\n",
       "3 Point Made            0\n",
       "3 Point Attempt         0\n",
       "3 Point Percent        11\n",
       "Free Throw Made         0\n",
       "Free Throw Attempts     0\n",
       "Free Throw Percent      0\n",
       "Offensive Rebounds      0\n",
       "Defensive Rebounds      0\n",
       "Rebounds                0\n",
       "Assists                 0\n",
       "Steals                  0\n",
       "Blocks                  0\n",
       "Turnovers               0\n",
       "TARGET_5Yrs             0\n",
       "dtype: int64"
      ]
     },
     "execution_count": 4,
     "metadata": {},
     "output_type": "execute_result"
    }
   ],
   "source": [
    "#missing value\n",
    "df.info()\n",
    "df.isnull().sum()"
   ]
  },
  {
   "cell_type": "code",
   "execution_count": 5,
   "id": "e58fdd1a",
   "metadata": {},
   "outputs": [],
   "source": [
    "# Data Exploration\n",
    "# statistical summary"
   ]
  },
  {
   "cell_type": "code",
   "execution_count": 6,
   "id": "22d636ff",
   "metadata": {},
   "outputs": [
    {
     "data": {
      "text/html": [
       "<div>\n",
       "<style scoped>\n",
       "    .dataframe tbody tr th:only-of-type {\n",
       "        vertical-align: middle;\n",
       "    }\n",
       "\n",
       "    .dataframe tbody tr th {\n",
       "        vertical-align: top;\n",
       "    }\n",
       "\n",
       "    .dataframe thead th {\n",
       "        text-align: right;\n",
       "    }\n",
       "</style>\n",
       "<table border=\"1\" class=\"dataframe\">\n",
       "  <thead>\n",
       "    <tr style=\"text-align: right;\">\n",
       "      <th></th>\n",
       "      <th>Name</th>\n",
       "      <th>Games Played</th>\n",
       "      <th>Minutes Played</th>\n",
       "      <th>Points Per Game</th>\n",
       "      <th>Field Goals Made</th>\n",
       "      <th>Field Goal Attempts</th>\n",
       "      <th>Field Goal Percent</th>\n",
       "      <th>3 Point Made</th>\n",
       "      <th>3 Point Attempt</th>\n",
       "      <th>3 Point Percent</th>\n",
       "      <th>...</th>\n",
       "      <th>Free Throw Attempts</th>\n",
       "      <th>Free Throw Percent</th>\n",
       "      <th>Offensive Rebounds</th>\n",
       "      <th>Defensive Rebounds</th>\n",
       "      <th>Rebounds</th>\n",
       "      <th>Assists</th>\n",
       "      <th>Steals</th>\n",
       "      <th>Blocks</th>\n",
       "      <th>Turnovers</th>\n",
       "      <th>TARGET_5Yrs</th>\n",
       "    </tr>\n",
       "  </thead>\n",
       "  <tbody>\n",
       "    <tr>\n",
       "      <th>0</th>\n",
       "      <td>Brandon Ingram</td>\n",
       "      <td>36</td>\n",
       "      <td>27.4</td>\n",
       "      <td>7.4</td>\n",
       "      <td>2.6</td>\n",
       "      <td>7.6</td>\n",
       "      <td>34.7</td>\n",
       "      <td>0.5</td>\n",
       "      <td>2.1</td>\n",
       "      <td>25.0</td>\n",
       "      <td>...</td>\n",
       "      <td>2.3</td>\n",
       "      <td>69.9</td>\n",
       "      <td>0.7</td>\n",
       "      <td>3.4</td>\n",
       "      <td>4.1</td>\n",
       "      <td>1.9</td>\n",
       "      <td>0.4</td>\n",
       "      <td>0.4</td>\n",
       "      <td>1.3</td>\n",
       "      <td>0</td>\n",
       "    </tr>\n",
       "    <tr>\n",
       "      <th>1</th>\n",
       "      <td>Andrew Harrison</td>\n",
       "      <td>35</td>\n",
       "      <td>26.9</td>\n",
       "      <td>7.2</td>\n",
       "      <td>2.0</td>\n",
       "      <td>6.7</td>\n",
       "      <td>29.6</td>\n",
       "      <td>0.7</td>\n",
       "      <td>2.8</td>\n",
       "      <td>23.5</td>\n",
       "      <td>...</td>\n",
       "      <td>3.4</td>\n",
       "      <td>76.5</td>\n",
       "      <td>0.5</td>\n",
       "      <td>2.0</td>\n",
       "      <td>2.4</td>\n",
       "      <td>3.7</td>\n",
       "      <td>1.1</td>\n",
       "      <td>0.5</td>\n",
       "      <td>1.6</td>\n",
       "      <td>0</td>\n",
       "    </tr>\n",
       "    <tr>\n",
       "      <th>2</th>\n",
       "      <td>JaKarr Sampson</td>\n",
       "      <td>74</td>\n",
       "      <td>15.3</td>\n",
       "      <td>5.2</td>\n",
       "      <td>2.0</td>\n",
       "      <td>4.7</td>\n",
       "      <td>42.2</td>\n",
       "      <td>0.4</td>\n",
       "      <td>1.7</td>\n",
       "      <td>24.4</td>\n",
       "      <td>...</td>\n",
       "      <td>1.3</td>\n",
       "      <td>67.0</td>\n",
       "      <td>0.5</td>\n",
       "      <td>1.7</td>\n",
       "      <td>2.2</td>\n",
       "      <td>1.0</td>\n",
       "      <td>0.5</td>\n",
       "      <td>0.3</td>\n",
       "      <td>1.0</td>\n",
       "      <td>0</td>\n",
       "    </tr>\n",
       "    <tr>\n",
       "      <th>3</th>\n",
       "      <td>Malik Sealy</td>\n",
       "      <td>58</td>\n",
       "      <td>11.6</td>\n",
       "      <td>5.7</td>\n",
       "      <td>2.3</td>\n",
       "      <td>5.5</td>\n",
       "      <td>42.6</td>\n",
       "      <td>0.1</td>\n",
       "      <td>0.5</td>\n",
       "      <td>22.6</td>\n",
       "      <td>...</td>\n",
       "      <td>1.3</td>\n",
       "      <td>68.9</td>\n",
       "      <td>1.0</td>\n",
       "      <td>0.9</td>\n",
       "      <td>1.9</td>\n",
       "      <td>0.8</td>\n",
       "      <td>0.6</td>\n",
       "      <td>0.1</td>\n",
       "      <td>1.0</td>\n",
       "      <td>1</td>\n",
       "    </tr>\n",
       "    <tr>\n",
       "      <th>4</th>\n",
       "      <td>Matt Geiger</td>\n",
       "      <td>48</td>\n",
       "      <td>11.5</td>\n",
       "      <td>4.5</td>\n",
       "      <td>1.6</td>\n",
       "      <td>3.0</td>\n",
       "      <td>52.4</td>\n",
       "      <td>0.0</td>\n",
       "      <td>0.1</td>\n",
       "      <td>0.0</td>\n",
       "      <td>...</td>\n",
       "      <td>1.9</td>\n",
       "      <td>67.4</td>\n",
       "      <td>1.0</td>\n",
       "      <td>1.5</td>\n",
       "      <td>2.5</td>\n",
       "      <td>0.3</td>\n",
       "      <td>0.3</td>\n",
       "      <td>0.4</td>\n",
       "      <td>0.8</td>\n",
       "      <td>1</td>\n",
       "    </tr>\n",
       "    <tr>\n",
       "      <th>5</th>\n",
       "      <td>Tony Bennett</td>\n",
       "      <td>75</td>\n",
       "      <td>11.4</td>\n",
       "      <td>3.7</td>\n",
       "      <td>1.5</td>\n",
       "      <td>3.5</td>\n",
       "      <td>42.3</td>\n",
       "      <td>0.3</td>\n",
       "      <td>1.1</td>\n",
       "      <td>32.5</td>\n",
       "      <td>...</td>\n",
       "      <td>0.5</td>\n",
       "      <td>73.2</td>\n",
       "      <td>0.2</td>\n",
       "      <td>0.7</td>\n",
       "      <td>0.8</td>\n",
       "      <td>1.8</td>\n",
       "      <td>0.4</td>\n",
       "      <td>0.0</td>\n",
       "      <td>0.7</td>\n",
       "      <td>0</td>\n",
       "    </tr>\n",
       "    <tr>\n",
       "      <th>6</th>\n",
       "      <td>Don MacLean</td>\n",
       "      <td>62</td>\n",
       "      <td>10.9</td>\n",
       "      <td>6.6</td>\n",
       "      <td>2.5</td>\n",
       "      <td>5.8</td>\n",
       "      <td>43.5</td>\n",
       "      <td>0.0</td>\n",
       "      <td>0.1</td>\n",
       "      <td>50.0</td>\n",
       "      <td>...</td>\n",
       "      <td>1.8</td>\n",
       "      <td>81.1</td>\n",
       "      <td>0.5</td>\n",
       "      <td>1.4</td>\n",
       "      <td>2.0</td>\n",
       "      <td>0.6</td>\n",
       "      <td>0.2</td>\n",
       "      <td>0.1</td>\n",
       "      <td>0.7</td>\n",
       "      <td>1</td>\n",
       "    </tr>\n",
       "    <tr>\n",
       "      <th>7</th>\n",
       "      <td>Tracy Murray</td>\n",
       "      <td>48</td>\n",
       "      <td>10.3</td>\n",
       "      <td>5.7</td>\n",
       "      <td>2.3</td>\n",
       "      <td>5.4</td>\n",
       "      <td>41.5</td>\n",
       "      <td>0.4</td>\n",
       "      <td>1.5</td>\n",
       "      <td>30.0</td>\n",
       "      <td>...</td>\n",
       "      <td>0.8</td>\n",
       "      <td>87.5</td>\n",
       "      <td>0.8</td>\n",
       "      <td>0.9</td>\n",
       "      <td>1.7</td>\n",
       "      <td>0.2</td>\n",
       "      <td>0.2</td>\n",
       "      <td>0.1</td>\n",
       "      <td>0.7</td>\n",
       "      <td>1</td>\n",
       "    </tr>\n",
       "    <tr>\n",
       "      <th>8</th>\n",
       "      <td>Duane Cooper</td>\n",
       "      <td>65</td>\n",
       "      <td>9.9</td>\n",
       "      <td>2.4</td>\n",
       "      <td>1.0</td>\n",
       "      <td>2.4</td>\n",
       "      <td>39.2</td>\n",
       "      <td>0.1</td>\n",
       "      <td>0.5</td>\n",
       "      <td>23.3</td>\n",
       "      <td>...</td>\n",
       "      <td>0.5</td>\n",
       "      <td>71.4</td>\n",
       "      <td>0.2</td>\n",
       "      <td>0.6</td>\n",
       "      <td>0.8</td>\n",
       "      <td>2.3</td>\n",
       "      <td>0.3</td>\n",
       "      <td>0.0</td>\n",
       "      <td>1.1</td>\n",
       "      <td>0</td>\n",
       "    </tr>\n",
       "    <tr>\n",
       "      <th>9</th>\n",
       "      <td>Dave Johnson</td>\n",
       "      <td>42</td>\n",
       "      <td>8.5</td>\n",
       "      <td>3.7</td>\n",
       "      <td>1.4</td>\n",
       "      <td>3.5</td>\n",
       "      <td>38.3</td>\n",
       "      <td>0.1</td>\n",
       "      <td>0.3</td>\n",
       "      <td>21.4</td>\n",
       "      <td>...</td>\n",
       "      <td>1.4</td>\n",
       "      <td>67.8</td>\n",
       "      <td>0.4</td>\n",
       "      <td>0.7</td>\n",
       "      <td>1.1</td>\n",
       "      <td>0.3</td>\n",
       "      <td>0.2</td>\n",
       "      <td>0.0</td>\n",
       "      <td>0.7</td>\n",
       "      <td>0</td>\n",
       "    </tr>\n",
       "  </tbody>\n",
       "</table>\n",
       "<p>10 rows × 21 columns</p>\n",
       "</div>"
      ],
      "text/plain": [
       "              Name  Games Played  Minutes Played  Points Per Game  \\\n",
       "0   Brandon Ingram            36            27.4              7.4   \n",
       "1  Andrew Harrison            35            26.9              7.2   \n",
       "2   JaKarr Sampson            74            15.3              5.2   \n",
       "3      Malik Sealy            58            11.6              5.7   \n",
       "4      Matt Geiger            48            11.5              4.5   \n",
       "5     Tony Bennett            75            11.4              3.7   \n",
       "6      Don MacLean            62            10.9              6.6   \n",
       "7     Tracy Murray            48            10.3              5.7   \n",
       "8     Duane Cooper            65             9.9              2.4   \n",
       "9     Dave Johnson            42             8.5              3.7   \n",
       "\n",
       "   Field Goals Made  Field Goal Attempts  Field Goal Percent  3 Point Made  \\\n",
       "0               2.6                  7.6                34.7           0.5   \n",
       "1               2.0                  6.7                29.6           0.7   \n",
       "2               2.0                  4.7                42.2           0.4   \n",
       "3               2.3                  5.5                42.6           0.1   \n",
       "4               1.6                  3.0                52.4           0.0   \n",
       "5               1.5                  3.5                42.3           0.3   \n",
       "6               2.5                  5.8                43.5           0.0   \n",
       "7               2.3                  5.4                41.5           0.4   \n",
       "8               1.0                  2.4                39.2           0.1   \n",
       "9               1.4                  3.5                38.3           0.1   \n",
       "\n",
       "   3 Point Attempt  3 Point Percent  ...  Free Throw Attempts  \\\n",
       "0              2.1             25.0  ...                  2.3   \n",
       "1              2.8             23.5  ...                  3.4   \n",
       "2              1.7             24.4  ...                  1.3   \n",
       "3              0.5             22.6  ...                  1.3   \n",
       "4              0.1              0.0  ...                  1.9   \n",
       "5              1.1             32.5  ...                  0.5   \n",
       "6              0.1             50.0  ...                  1.8   \n",
       "7              1.5             30.0  ...                  0.8   \n",
       "8              0.5             23.3  ...                  0.5   \n",
       "9              0.3             21.4  ...                  1.4   \n",
       "\n",
       "   Free Throw Percent  Offensive Rebounds  Defensive Rebounds  Rebounds  \\\n",
       "0                69.9                 0.7                 3.4       4.1   \n",
       "1                76.5                 0.5                 2.0       2.4   \n",
       "2                67.0                 0.5                 1.7       2.2   \n",
       "3                68.9                 1.0                 0.9       1.9   \n",
       "4                67.4                 1.0                 1.5       2.5   \n",
       "5                73.2                 0.2                 0.7       0.8   \n",
       "6                81.1                 0.5                 1.4       2.0   \n",
       "7                87.5                 0.8                 0.9       1.7   \n",
       "8                71.4                 0.2                 0.6       0.8   \n",
       "9                67.8                 0.4                 0.7       1.1   \n",
       "\n",
       "   Assists  Steals  Blocks  Turnovers  TARGET_5Yrs  \n",
       "0      1.9     0.4     0.4        1.3            0  \n",
       "1      3.7     1.1     0.5        1.6            0  \n",
       "2      1.0     0.5     0.3        1.0            0  \n",
       "3      0.8     0.6     0.1        1.0            1  \n",
       "4      0.3     0.3     0.4        0.8            1  \n",
       "5      1.8     0.4     0.0        0.7            0  \n",
       "6      0.6     0.2     0.1        0.7            1  \n",
       "7      0.2     0.2     0.1        0.7            1  \n",
       "8      2.3     0.3     0.0        1.1            0  \n",
       "9      0.3     0.2     0.0        0.7            0  \n",
       "\n",
       "[10 rows x 21 columns]"
      ]
     },
     "execution_count": 6,
     "metadata": {},
     "output_type": "execute_result"
    }
   ],
   "source": [
    "df.head(10)"
   ]
  },
  {
   "cell_type": "code",
   "execution_count": 7,
   "id": "589c4a71",
   "metadata": {},
   "outputs": [
    {
     "data": {
      "text/html": [
       "<div>\n",
       "<style scoped>\n",
       "    .dataframe tbody tr th:only-of-type {\n",
       "        vertical-align: middle;\n",
       "    }\n",
       "\n",
       "    .dataframe tbody tr th {\n",
       "        vertical-align: top;\n",
       "    }\n",
       "\n",
       "    .dataframe thead th {\n",
       "        text-align: right;\n",
       "    }\n",
       "</style>\n",
       "<table border=\"1\" class=\"dataframe\">\n",
       "  <thead>\n",
       "    <tr style=\"text-align: right;\">\n",
       "      <th></th>\n",
       "      <th>Name</th>\n",
       "      <th>Games Played</th>\n",
       "      <th>Minutes Played</th>\n",
       "      <th>Points Per Game</th>\n",
       "      <th>Field Goals Made</th>\n",
       "      <th>Field Goal Attempts</th>\n",
       "      <th>Field Goal Percent</th>\n",
       "      <th>3 Point Made</th>\n",
       "      <th>3 Point Attempt</th>\n",
       "      <th>3 Point Percent</th>\n",
       "      <th>...</th>\n",
       "      <th>Free Throw Attempts</th>\n",
       "      <th>Free Throw Percent</th>\n",
       "      <th>Offensive Rebounds</th>\n",
       "      <th>Defensive Rebounds</th>\n",
       "      <th>Rebounds</th>\n",
       "      <th>Assists</th>\n",
       "      <th>Steals</th>\n",
       "      <th>Blocks</th>\n",
       "      <th>Turnovers</th>\n",
       "      <th>TARGET_5Yrs</th>\n",
       "    </tr>\n",
       "  </thead>\n",
       "  <tbody>\n",
       "    <tr>\n",
       "      <th>1330</th>\n",
       "      <td>Adam Keefe</td>\n",
       "      <td>82</td>\n",
       "      <td>18.9</td>\n",
       "      <td>6.6</td>\n",
       "      <td>2.3</td>\n",
       "      <td>4.6</td>\n",
       "      <td>50.0</td>\n",
       "      <td>0.0</td>\n",
       "      <td>0.0</td>\n",
       "      <td>0.0</td>\n",
       "      <td>...</td>\n",
       "      <td>2.9</td>\n",
       "      <td>70.0</td>\n",
       "      <td>2.1</td>\n",
       "      <td>3.2</td>\n",
       "      <td>5.3</td>\n",
       "      <td>1.0</td>\n",
       "      <td>0.7</td>\n",
       "      <td>0.2</td>\n",
       "      <td>1.2</td>\n",
       "      <td>1</td>\n",
       "    </tr>\n",
       "    <tr>\n",
       "      <th>1331</th>\n",
       "      <td>Lee Mayberry</td>\n",
       "      <td>82</td>\n",
       "      <td>18.3</td>\n",
       "      <td>5.2</td>\n",
       "      <td>2.1</td>\n",
       "      <td>4.6</td>\n",
       "      <td>45.6</td>\n",
       "      <td>0.5</td>\n",
       "      <td>1.3</td>\n",
       "      <td>39.1</td>\n",
       "      <td>...</td>\n",
       "      <td>0.8</td>\n",
       "      <td>57.4</td>\n",
       "      <td>0.3</td>\n",
       "      <td>1.1</td>\n",
       "      <td>1.4</td>\n",
       "      <td>3.3</td>\n",
       "      <td>0.7</td>\n",
       "      <td>0.1</td>\n",
       "      <td>1.0</td>\n",
       "      <td>1</td>\n",
       "    </tr>\n",
       "    <tr>\n",
       "      <th>1332</th>\n",
       "      <td>Hubert Davis</td>\n",
       "      <td>50</td>\n",
       "      <td>16.3</td>\n",
       "      <td>5.4</td>\n",
       "      <td>2.2</td>\n",
       "      <td>5.0</td>\n",
       "      <td>43.8</td>\n",
       "      <td>0.1</td>\n",
       "      <td>0.4</td>\n",
       "      <td>31.6</td>\n",
       "      <td>...</td>\n",
       "      <td>1.1</td>\n",
       "      <td>79.6</td>\n",
       "      <td>0.3</td>\n",
       "      <td>0.9</td>\n",
       "      <td>1.1</td>\n",
       "      <td>1.7</td>\n",
       "      <td>0.4</td>\n",
       "      <td>0.1</td>\n",
       "      <td>0.9</td>\n",
       "      <td>1</td>\n",
       "    </tr>\n",
       "    <tr>\n",
       "      <th>1333</th>\n",
       "      <td>Byron Houston</td>\n",
       "      <td>79</td>\n",
       "      <td>16.1</td>\n",
       "      <td>5.3</td>\n",
       "      <td>1.8</td>\n",
       "      <td>4.1</td>\n",
       "      <td>44.6</td>\n",
       "      <td>0.0</td>\n",
       "      <td>0.1</td>\n",
       "      <td>28.6</td>\n",
       "      <td>...</td>\n",
       "      <td>2.5</td>\n",
       "      <td>66.5</td>\n",
       "      <td>1.5</td>\n",
       "      <td>2.5</td>\n",
       "      <td>4.0</td>\n",
       "      <td>0.9</td>\n",
       "      <td>0.6</td>\n",
       "      <td>0.5</td>\n",
       "      <td>1.1</td>\n",
       "      <td>0</td>\n",
       "    </tr>\n",
       "    <tr>\n",
       "      <th>1334</th>\n",
       "      <td>Chris Smith</td>\n",
       "      <td>80</td>\n",
       "      <td>15.8</td>\n",
       "      <td>4.3</td>\n",
       "      <td>1.6</td>\n",
       "      <td>3.6</td>\n",
       "      <td>43.3</td>\n",
       "      <td>0.0</td>\n",
       "      <td>0.2</td>\n",
       "      <td>14.3</td>\n",
       "      <td>...</td>\n",
       "      <td>1.5</td>\n",
       "      <td>79.2</td>\n",
       "      <td>0.4</td>\n",
       "      <td>0.8</td>\n",
       "      <td>1.2</td>\n",
       "      <td>2.5</td>\n",
       "      <td>0.6</td>\n",
       "      <td>0.2</td>\n",
       "      <td>0.8</td>\n",
       "      <td>0</td>\n",
       "    </tr>\n",
       "    <tr>\n",
       "      <th>1335</th>\n",
       "      <td>Chris Smith</td>\n",
       "      <td>80</td>\n",
       "      <td>15.8</td>\n",
       "      <td>4.3</td>\n",
       "      <td>1.6</td>\n",
       "      <td>3.6</td>\n",
       "      <td>43.3</td>\n",
       "      <td>0.0</td>\n",
       "      <td>0.2</td>\n",
       "      <td>14.3</td>\n",
       "      <td>...</td>\n",
       "      <td>1.5</td>\n",
       "      <td>79.2</td>\n",
       "      <td>0.4</td>\n",
       "      <td>0.8</td>\n",
       "      <td>1.2</td>\n",
       "      <td>2.5</td>\n",
       "      <td>0.6</td>\n",
       "      <td>0.2</td>\n",
       "      <td>0.8</td>\n",
       "      <td>0</td>\n",
       "    </tr>\n",
       "    <tr>\n",
       "      <th>1336</th>\n",
       "      <td>Brent Price</td>\n",
       "      <td>68</td>\n",
       "      <td>12.6</td>\n",
       "      <td>3.9</td>\n",
       "      <td>1.5</td>\n",
       "      <td>4.1</td>\n",
       "      <td>35.8</td>\n",
       "      <td>0.1</td>\n",
       "      <td>0.7</td>\n",
       "      <td>16.7</td>\n",
       "      <td>...</td>\n",
       "      <td>1.0</td>\n",
       "      <td>79.4</td>\n",
       "      <td>0.4</td>\n",
       "      <td>1.1</td>\n",
       "      <td>1.5</td>\n",
       "      <td>2.3</td>\n",
       "      <td>0.8</td>\n",
       "      <td>0.0</td>\n",
       "      <td>1.3</td>\n",
       "      <td>1</td>\n",
       "    </tr>\n",
       "    <tr>\n",
       "      <th>1337</th>\n",
       "      <td>Marlon Maxey</td>\n",
       "      <td>43</td>\n",
       "      <td>12.1</td>\n",
       "      <td>5.4</td>\n",
       "      <td>2.2</td>\n",
       "      <td>3.9</td>\n",
       "      <td>55.0</td>\n",
       "      <td>0.0</td>\n",
       "      <td>0.0</td>\n",
       "      <td>0.0</td>\n",
       "      <td>...</td>\n",
       "      <td>1.6</td>\n",
       "      <td>64.3</td>\n",
       "      <td>1.5</td>\n",
       "      <td>2.3</td>\n",
       "      <td>3.8</td>\n",
       "      <td>0.3</td>\n",
       "      <td>0.3</td>\n",
       "      <td>0.4</td>\n",
       "      <td>0.9</td>\n",
       "      <td>0</td>\n",
       "    </tr>\n",
       "    <tr>\n",
       "      <th>1338</th>\n",
       "      <td>Litterial Green</td>\n",
       "      <td>52</td>\n",
       "      <td>12.0</td>\n",
       "      <td>4.5</td>\n",
       "      <td>1.7</td>\n",
       "      <td>3.8</td>\n",
       "      <td>43.9</td>\n",
       "      <td>0.0</td>\n",
       "      <td>0.2</td>\n",
       "      <td>10.0</td>\n",
       "      <td>...</td>\n",
       "      <td>1.8</td>\n",
       "      <td>62.5</td>\n",
       "      <td>0.2</td>\n",
       "      <td>0.4</td>\n",
       "      <td>0.7</td>\n",
       "      <td>2.2</td>\n",
       "      <td>0.4</td>\n",
       "      <td>0.1</td>\n",
       "      <td>0.8</td>\n",
       "      <td>1</td>\n",
       "    </tr>\n",
       "    <tr>\n",
       "      <th>1339</th>\n",
       "      <td>Jon Barry</td>\n",
       "      <td>47</td>\n",
       "      <td>11.7</td>\n",
       "      <td>4.4</td>\n",
       "      <td>1.6</td>\n",
       "      <td>4.4</td>\n",
       "      <td>36.9</td>\n",
       "      <td>0.4</td>\n",
       "      <td>1.3</td>\n",
       "      <td>33.3</td>\n",
       "      <td>...</td>\n",
       "      <td>1.0</td>\n",
       "      <td>67.3</td>\n",
       "      <td>0.2</td>\n",
       "      <td>0.7</td>\n",
       "      <td>0.9</td>\n",
       "      <td>1.4</td>\n",
       "      <td>0.7</td>\n",
       "      <td>0.1</td>\n",
       "      <td>0.9</td>\n",
       "      <td>1</td>\n",
       "    </tr>\n",
       "  </tbody>\n",
       "</table>\n",
       "<p>10 rows × 21 columns</p>\n",
       "</div>"
      ],
      "text/plain": [
       "                 Name  Games Played  Minutes Played  Points Per Game  \\\n",
       "1330       Adam Keefe            82            18.9              6.6   \n",
       "1331     Lee Mayberry            82            18.3              5.2   \n",
       "1332     Hubert Davis            50            16.3              5.4   \n",
       "1333    Byron Houston            79            16.1              5.3   \n",
       "1334      Chris Smith            80            15.8              4.3   \n",
       "1335      Chris Smith            80            15.8              4.3   \n",
       "1336      Brent Price            68            12.6              3.9   \n",
       "1337     Marlon Maxey            43            12.1              5.4   \n",
       "1338  Litterial Green            52            12.0              4.5   \n",
       "1339        Jon Barry            47            11.7              4.4   \n",
       "\n",
       "      Field Goals Made  Field Goal Attempts  Field Goal Percent  3 Point Made  \\\n",
       "1330               2.3                  4.6                50.0           0.0   \n",
       "1331               2.1                  4.6                45.6           0.5   \n",
       "1332               2.2                  5.0                43.8           0.1   \n",
       "1333               1.8                  4.1                44.6           0.0   \n",
       "1334               1.6                  3.6                43.3           0.0   \n",
       "1335               1.6                  3.6                43.3           0.0   \n",
       "1336               1.5                  4.1                35.8           0.1   \n",
       "1337               2.2                  3.9                55.0           0.0   \n",
       "1338               1.7                  3.8                43.9           0.0   \n",
       "1339               1.6                  4.4                36.9           0.4   \n",
       "\n",
       "      3 Point Attempt  3 Point Percent  ...  Free Throw Attempts  \\\n",
       "1330              0.0              0.0  ...                  2.9   \n",
       "1331              1.3             39.1  ...                  0.8   \n",
       "1332              0.4             31.6  ...                  1.1   \n",
       "1333              0.1             28.6  ...                  2.5   \n",
       "1334              0.2             14.3  ...                  1.5   \n",
       "1335              0.2             14.3  ...                  1.5   \n",
       "1336              0.7             16.7  ...                  1.0   \n",
       "1337              0.0              0.0  ...                  1.6   \n",
       "1338              0.2             10.0  ...                  1.8   \n",
       "1339              1.3             33.3  ...                  1.0   \n",
       "\n",
       "      Free Throw Percent  Offensive Rebounds  Defensive Rebounds  Rebounds  \\\n",
       "1330                70.0                 2.1                 3.2       5.3   \n",
       "1331                57.4                 0.3                 1.1       1.4   \n",
       "1332                79.6                 0.3                 0.9       1.1   \n",
       "1333                66.5                 1.5                 2.5       4.0   \n",
       "1334                79.2                 0.4                 0.8       1.2   \n",
       "1335                79.2                 0.4                 0.8       1.2   \n",
       "1336                79.4                 0.4                 1.1       1.5   \n",
       "1337                64.3                 1.5                 2.3       3.8   \n",
       "1338                62.5                 0.2                 0.4       0.7   \n",
       "1339                67.3                 0.2                 0.7       0.9   \n",
       "\n",
       "      Assists  Steals  Blocks  Turnovers  TARGET_5Yrs  \n",
       "1330      1.0     0.7     0.2        1.2            1  \n",
       "1331      3.3     0.7     0.1        1.0            1  \n",
       "1332      1.7     0.4     0.1        0.9            1  \n",
       "1333      0.9     0.6     0.5        1.1            0  \n",
       "1334      2.5     0.6     0.2        0.8            0  \n",
       "1335      2.5     0.6     0.2        0.8            0  \n",
       "1336      2.3     0.8     0.0        1.3            1  \n",
       "1337      0.3     0.3     0.4        0.9            0  \n",
       "1338      2.2     0.4     0.1        0.8            1  \n",
       "1339      1.4     0.7     0.1        0.9            1  \n",
       "\n",
       "[10 rows x 21 columns]"
      ]
     },
     "execution_count": 7,
     "metadata": {},
     "output_type": "execute_result"
    }
   ],
   "source": [
    "df.tail(10)"
   ]
  },
  {
   "cell_type": "code",
   "execution_count": 8,
   "id": "fb7717f8",
   "metadata": {},
   "outputs": [
    {
     "data": {
      "text/html": [
       "<div>\n",
       "<style scoped>\n",
       "    .dataframe tbody tr th:only-of-type {\n",
       "        vertical-align: middle;\n",
       "    }\n",
       "\n",
       "    .dataframe tbody tr th {\n",
       "        vertical-align: top;\n",
       "    }\n",
       "\n",
       "    .dataframe thead th {\n",
       "        text-align: right;\n",
       "    }\n",
       "</style>\n",
       "<table border=\"1\" class=\"dataframe\">\n",
       "  <thead>\n",
       "    <tr style=\"text-align: right;\">\n",
       "      <th></th>\n",
       "      <th>Games Played</th>\n",
       "      <th>Minutes Played</th>\n",
       "      <th>Points Per Game</th>\n",
       "      <th>Field Goals Made</th>\n",
       "      <th>Field Goal Attempts</th>\n",
       "      <th>Field Goal Percent</th>\n",
       "      <th>3 Point Made</th>\n",
       "      <th>3 Point Attempt</th>\n",
       "      <th>3 Point Percent</th>\n",
       "      <th>Free Throw Made</th>\n",
       "      <th>Free Throw Attempts</th>\n",
       "      <th>Free Throw Percent</th>\n",
       "      <th>Offensive Rebounds</th>\n",
       "      <th>Defensive Rebounds</th>\n",
       "      <th>Rebounds</th>\n",
       "      <th>Assists</th>\n",
       "      <th>Steals</th>\n",
       "      <th>Blocks</th>\n",
       "      <th>Turnovers</th>\n",
       "    </tr>\n",
       "  </thead>\n",
       "  <tbody>\n",
       "    <tr>\n",
       "      <th>0</th>\n",
       "      <td>36</td>\n",
       "      <td>27.4</td>\n",
       "      <td>7.4</td>\n",
       "      <td>2.6</td>\n",
       "      <td>7.6</td>\n",
       "      <td>34.7</td>\n",
       "      <td>0.5</td>\n",
       "      <td>2.1</td>\n",
       "      <td>25.0</td>\n",
       "      <td>1.6</td>\n",
       "      <td>2.3</td>\n",
       "      <td>69.9</td>\n",
       "      <td>0.7</td>\n",
       "      <td>3.4</td>\n",
       "      <td>4.1</td>\n",
       "      <td>1.9</td>\n",
       "      <td>0.4</td>\n",
       "      <td>0.4</td>\n",
       "      <td>1.3</td>\n",
       "    </tr>\n",
       "    <tr>\n",
       "      <th>1</th>\n",
       "      <td>35</td>\n",
       "      <td>26.9</td>\n",
       "      <td>7.2</td>\n",
       "      <td>2.0</td>\n",
       "      <td>6.7</td>\n",
       "      <td>29.6</td>\n",
       "      <td>0.7</td>\n",
       "      <td>2.8</td>\n",
       "      <td>23.5</td>\n",
       "      <td>2.6</td>\n",
       "      <td>3.4</td>\n",
       "      <td>76.5</td>\n",
       "      <td>0.5</td>\n",
       "      <td>2.0</td>\n",
       "      <td>2.4</td>\n",
       "      <td>3.7</td>\n",
       "      <td>1.1</td>\n",
       "      <td>0.5</td>\n",
       "      <td>1.6</td>\n",
       "    </tr>\n",
       "    <tr>\n",
       "      <th>2</th>\n",
       "      <td>74</td>\n",
       "      <td>15.3</td>\n",
       "      <td>5.2</td>\n",
       "      <td>2.0</td>\n",
       "      <td>4.7</td>\n",
       "      <td>42.2</td>\n",
       "      <td>0.4</td>\n",
       "      <td>1.7</td>\n",
       "      <td>24.4</td>\n",
       "      <td>0.9</td>\n",
       "      <td>1.3</td>\n",
       "      <td>67.0</td>\n",
       "      <td>0.5</td>\n",
       "      <td>1.7</td>\n",
       "      <td>2.2</td>\n",
       "      <td>1.0</td>\n",
       "      <td>0.5</td>\n",
       "      <td>0.3</td>\n",
       "      <td>1.0</td>\n",
       "    </tr>\n",
       "    <tr>\n",
       "      <th>3</th>\n",
       "      <td>58</td>\n",
       "      <td>11.6</td>\n",
       "      <td>5.7</td>\n",
       "      <td>2.3</td>\n",
       "      <td>5.5</td>\n",
       "      <td>42.6</td>\n",
       "      <td>0.1</td>\n",
       "      <td>0.5</td>\n",
       "      <td>22.6</td>\n",
       "      <td>0.9</td>\n",
       "      <td>1.3</td>\n",
       "      <td>68.9</td>\n",
       "      <td>1.0</td>\n",
       "      <td>0.9</td>\n",
       "      <td>1.9</td>\n",
       "      <td>0.8</td>\n",
       "      <td>0.6</td>\n",
       "      <td>0.1</td>\n",
       "      <td>1.0</td>\n",
       "    </tr>\n",
       "    <tr>\n",
       "      <th>4</th>\n",
       "      <td>48</td>\n",
       "      <td>11.5</td>\n",
       "      <td>4.5</td>\n",
       "      <td>1.6</td>\n",
       "      <td>3.0</td>\n",
       "      <td>52.4</td>\n",
       "      <td>0.0</td>\n",
       "      <td>0.1</td>\n",
       "      <td>0.0</td>\n",
       "      <td>1.3</td>\n",
       "      <td>1.9</td>\n",
       "      <td>67.4</td>\n",
       "      <td>1.0</td>\n",
       "      <td>1.5</td>\n",
       "      <td>2.5</td>\n",
       "      <td>0.3</td>\n",
       "      <td>0.3</td>\n",
       "      <td>0.4</td>\n",
       "      <td>0.8</td>\n",
       "    </tr>\n",
       "    <tr>\n",
       "      <th>...</th>\n",
       "      <td>...</td>\n",
       "      <td>...</td>\n",
       "      <td>...</td>\n",
       "      <td>...</td>\n",
       "      <td>...</td>\n",
       "      <td>...</td>\n",
       "      <td>...</td>\n",
       "      <td>...</td>\n",
       "      <td>...</td>\n",
       "      <td>...</td>\n",
       "      <td>...</td>\n",
       "      <td>...</td>\n",
       "      <td>...</td>\n",
       "      <td>...</td>\n",
       "      <td>...</td>\n",
       "      <td>...</td>\n",
       "      <td>...</td>\n",
       "      <td>...</td>\n",
       "      <td>...</td>\n",
       "    </tr>\n",
       "    <tr>\n",
       "      <th>1335</th>\n",
       "      <td>80</td>\n",
       "      <td>15.8</td>\n",
       "      <td>4.3</td>\n",
       "      <td>1.6</td>\n",
       "      <td>3.6</td>\n",
       "      <td>43.3</td>\n",
       "      <td>0.0</td>\n",
       "      <td>0.2</td>\n",
       "      <td>14.3</td>\n",
       "      <td>1.2</td>\n",
       "      <td>1.5</td>\n",
       "      <td>79.2</td>\n",
       "      <td>0.4</td>\n",
       "      <td>0.8</td>\n",
       "      <td>1.2</td>\n",
       "      <td>2.5</td>\n",
       "      <td>0.6</td>\n",
       "      <td>0.2</td>\n",
       "      <td>0.8</td>\n",
       "    </tr>\n",
       "    <tr>\n",
       "      <th>1336</th>\n",
       "      <td>68</td>\n",
       "      <td>12.6</td>\n",
       "      <td>3.9</td>\n",
       "      <td>1.5</td>\n",
       "      <td>4.1</td>\n",
       "      <td>35.8</td>\n",
       "      <td>0.1</td>\n",
       "      <td>0.7</td>\n",
       "      <td>16.7</td>\n",
       "      <td>0.8</td>\n",
       "      <td>1.0</td>\n",
       "      <td>79.4</td>\n",
       "      <td>0.4</td>\n",
       "      <td>1.1</td>\n",
       "      <td>1.5</td>\n",
       "      <td>2.3</td>\n",
       "      <td>0.8</td>\n",
       "      <td>0.0</td>\n",
       "      <td>1.3</td>\n",
       "    </tr>\n",
       "    <tr>\n",
       "      <th>1337</th>\n",
       "      <td>43</td>\n",
       "      <td>12.1</td>\n",
       "      <td>5.4</td>\n",
       "      <td>2.2</td>\n",
       "      <td>3.9</td>\n",
       "      <td>55.0</td>\n",
       "      <td>0.0</td>\n",
       "      <td>0.0</td>\n",
       "      <td>0.0</td>\n",
       "      <td>1.0</td>\n",
       "      <td>1.6</td>\n",
       "      <td>64.3</td>\n",
       "      <td>1.5</td>\n",
       "      <td>2.3</td>\n",
       "      <td>3.8</td>\n",
       "      <td>0.3</td>\n",
       "      <td>0.3</td>\n",
       "      <td>0.4</td>\n",
       "      <td>0.9</td>\n",
       "    </tr>\n",
       "    <tr>\n",
       "      <th>1338</th>\n",
       "      <td>52</td>\n",
       "      <td>12.0</td>\n",
       "      <td>4.5</td>\n",
       "      <td>1.7</td>\n",
       "      <td>3.8</td>\n",
       "      <td>43.9</td>\n",
       "      <td>0.0</td>\n",
       "      <td>0.2</td>\n",
       "      <td>10.0</td>\n",
       "      <td>1.2</td>\n",
       "      <td>1.8</td>\n",
       "      <td>62.5</td>\n",
       "      <td>0.2</td>\n",
       "      <td>0.4</td>\n",
       "      <td>0.7</td>\n",
       "      <td>2.2</td>\n",
       "      <td>0.4</td>\n",
       "      <td>0.1</td>\n",
       "      <td>0.8</td>\n",
       "    </tr>\n",
       "    <tr>\n",
       "      <th>1339</th>\n",
       "      <td>47</td>\n",
       "      <td>11.7</td>\n",
       "      <td>4.4</td>\n",
       "      <td>1.6</td>\n",
       "      <td>4.4</td>\n",
       "      <td>36.9</td>\n",
       "      <td>0.4</td>\n",
       "      <td>1.3</td>\n",
       "      <td>33.3</td>\n",
       "      <td>0.7</td>\n",
       "      <td>1.0</td>\n",
       "      <td>67.3</td>\n",
       "      <td>0.2</td>\n",
       "      <td>0.7</td>\n",
       "      <td>0.9</td>\n",
       "      <td>1.4</td>\n",
       "      <td>0.7</td>\n",
       "      <td>0.1</td>\n",
       "      <td>0.9</td>\n",
       "    </tr>\n",
       "  </tbody>\n",
       "</table>\n",
       "<p>1340 rows × 19 columns</p>\n",
       "</div>"
      ],
      "text/plain": [
       "      Games Played  Minutes Played  Points Per Game  Field Goals Made  \\\n",
       "0               36            27.4              7.4               2.6   \n",
       "1               35            26.9              7.2               2.0   \n",
       "2               74            15.3              5.2               2.0   \n",
       "3               58            11.6              5.7               2.3   \n",
       "4               48            11.5              4.5               1.6   \n",
       "...            ...             ...              ...               ...   \n",
       "1335            80            15.8              4.3               1.6   \n",
       "1336            68            12.6              3.9               1.5   \n",
       "1337            43            12.1              5.4               2.2   \n",
       "1338            52            12.0              4.5               1.7   \n",
       "1339            47            11.7              4.4               1.6   \n",
       "\n",
       "      Field Goal Attempts  Field Goal Percent  3 Point Made  3 Point Attempt  \\\n",
       "0                     7.6                34.7           0.5              2.1   \n",
       "1                     6.7                29.6           0.7              2.8   \n",
       "2                     4.7                42.2           0.4              1.7   \n",
       "3                     5.5                42.6           0.1              0.5   \n",
       "4                     3.0                52.4           0.0              0.1   \n",
       "...                   ...                 ...           ...              ...   \n",
       "1335                  3.6                43.3           0.0              0.2   \n",
       "1336                  4.1                35.8           0.1              0.7   \n",
       "1337                  3.9                55.0           0.0              0.0   \n",
       "1338                  3.8                43.9           0.0              0.2   \n",
       "1339                  4.4                36.9           0.4              1.3   \n",
       "\n",
       "      3 Point Percent  Free Throw Made  Free Throw Attempts  \\\n",
       "0                25.0              1.6                  2.3   \n",
       "1                23.5              2.6                  3.4   \n",
       "2                24.4              0.9                  1.3   \n",
       "3                22.6              0.9                  1.3   \n",
       "4                 0.0              1.3                  1.9   \n",
       "...               ...              ...                  ...   \n",
       "1335             14.3              1.2                  1.5   \n",
       "1336             16.7              0.8                  1.0   \n",
       "1337              0.0              1.0                  1.6   \n",
       "1338             10.0              1.2                  1.8   \n",
       "1339             33.3              0.7                  1.0   \n",
       "\n",
       "      Free Throw Percent  Offensive Rebounds  Defensive Rebounds  Rebounds  \\\n",
       "0                   69.9                 0.7                 3.4       4.1   \n",
       "1                   76.5                 0.5                 2.0       2.4   \n",
       "2                   67.0                 0.5                 1.7       2.2   \n",
       "3                   68.9                 1.0                 0.9       1.9   \n",
       "4                   67.4                 1.0                 1.5       2.5   \n",
       "...                  ...                 ...                 ...       ...   \n",
       "1335                79.2                 0.4                 0.8       1.2   \n",
       "1336                79.4                 0.4                 1.1       1.5   \n",
       "1337                64.3                 1.5                 2.3       3.8   \n",
       "1338                62.5                 0.2                 0.4       0.7   \n",
       "1339                67.3                 0.2                 0.7       0.9   \n",
       "\n",
       "      Assists  Steals  Blocks  Turnovers  \n",
       "0         1.9     0.4     0.4        1.3  \n",
       "1         3.7     1.1     0.5        1.6  \n",
       "2         1.0     0.5     0.3        1.0  \n",
       "3         0.8     0.6     0.1        1.0  \n",
       "4         0.3     0.3     0.4        0.8  \n",
       "...       ...     ...     ...        ...  \n",
       "1335      2.5     0.6     0.2        0.8  \n",
       "1336      2.3     0.8     0.0        1.3  \n",
       "1337      0.3     0.3     0.4        0.9  \n",
       "1338      2.2     0.4     0.1        0.8  \n",
       "1339      1.4     0.7     0.1        0.9  \n",
       "\n",
       "[1340 rows x 19 columns]"
      ]
     },
     "execution_count": 8,
     "metadata": {},
     "output_type": "execute_result"
    }
   ],
   "source": [
    "#remove the string column\n",
    "df[df.columns[1:-1]]"
   ]
  },
  {
   "cell_type": "code",
   "execution_count": 9,
   "id": "9e297a25",
   "metadata": {},
   "outputs": [
    {
     "data": {
      "text/plain": [
       "0    25.0\n",
       "1    23.5\n",
       "2    24.4\n",
       "3    22.6\n",
       "4     0.0\n",
       "Name: 3 Point Percent, dtype: float64"
      ]
     },
     "execution_count": 9,
     "metadata": {},
     "output_type": "execute_result"
    }
   ],
   "source": [
    "#copy of the column with empty datasets\n",
    "new= df[('3 Point Percent')]\n",
    "new.head()"
   ]
  },
  {
   "cell_type": "code",
   "execution_count": 10,
   "id": "773a23fa",
   "metadata": {},
   "outputs": [],
   "source": [
    "#filling the data with the mean\n",
    "new= new.fillna(new.mean())"
   ]
  },
  {
   "cell_type": "code",
   "execution_count": 11,
   "id": "91f71475",
   "metadata": {},
   "outputs": [],
   "source": [
    "#add mean toempty data set\n",
    "df[('3 Point Percent')]=new"
   ]
  },
  {
   "cell_type": "code",
   "execution_count": 12,
   "id": "16755de3",
   "metadata": {},
   "outputs": [
    {
     "data": {
      "text/plain": [
       "Name                   0\n",
       "Games Played           0\n",
       "Minutes Played         0\n",
       "Points Per Game        0\n",
       "Field Goals Made       0\n",
       "Field Goal Attempts    0\n",
       "Field Goal Percent     0\n",
       "3 Point Made           0\n",
       "3 Point Attempt        0\n",
       "3 Point Percent        0\n",
       "Free Throw Made        0\n",
       "Free Throw Attempts    0\n",
       "Free Throw Percent     0\n",
       "Offensive Rebounds     0\n",
       "Defensive Rebounds     0\n",
       "Rebounds               0\n",
       "Assists                0\n",
       "Steals                 0\n",
       "Blocks                 0\n",
       "Turnovers              0\n",
       "TARGET_5Yrs            0\n",
       "dtype: int64"
      ]
     },
     "execution_count": 12,
     "metadata": {},
     "output_type": "execute_result"
    }
   ],
   "source": [
    "#confirm missing column is gone\n",
    "df.isna().sum()"
   ]
  },
  {
   "cell_type": "code",
   "execution_count": 13,
   "id": "be638c6e",
   "metadata": {},
   "outputs": [
    {
     "data": {
      "text/html": [
       "<div>\n",
       "<style scoped>\n",
       "    .dataframe tbody tr th:only-of-type {\n",
       "        vertical-align: middle;\n",
       "    }\n",
       "\n",
       "    .dataframe tbody tr th {\n",
       "        vertical-align: top;\n",
       "    }\n",
       "\n",
       "    .dataframe thead th {\n",
       "        text-align: right;\n",
       "    }\n",
       "</style>\n",
       "<table border=\"1\" class=\"dataframe\">\n",
       "  <thead>\n",
       "    <tr style=\"text-align: right;\">\n",
       "      <th></th>\n",
       "      <th>Games Played</th>\n",
       "      <th>Minutes Played</th>\n",
       "      <th>Points Per Game</th>\n",
       "      <th>Field Goals Made</th>\n",
       "      <th>Field Goal Attempts</th>\n",
       "      <th>Field Goal Percent</th>\n",
       "      <th>3 Point Made</th>\n",
       "      <th>3 Point Attempt</th>\n",
       "      <th>3 Point Percent</th>\n",
       "      <th>Free Throw Made</th>\n",
       "      <th>Free Throw Attempts</th>\n",
       "      <th>Free Throw Percent</th>\n",
       "      <th>Offensive Rebounds</th>\n",
       "      <th>Defensive Rebounds</th>\n",
       "      <th>Rebounds</th>\n",
       "      <th>Assists</th>\n",
       "      <th>Steals</th>\n",
       "      <th>Blocks</th>\n",
       "      <th>Turnovers</th>\n",
       "      <th>TARGET_5Yrs</th>\n",
       "    </tr>\n",
       "  </thead>\n",
       "  <tbody>\n",
       "    <tr>\n",
       "      <th>count</th>\n",
       "      <td>1340.000000</td>\n",
       "      <td>1340.000000</td>\n",
       "      <td>1340.000000</td>\n",
       "      <td>1340.000000</td>\n",
       "      <td>1340.000000</td>\n",
       "      <td>1340.000000</td>\n",
       "      <td>1340.000000</td>\n",
       "      <td>1340.000000</td>\n",
       "      <td>1340.000000</td>\n",
       "      <td>1340.000000</td>\n",
       "      <td>1340.000000</td>\n",
       "      <td>1340.000000</td>\n",
       "      <td>1340.000000</td>\n",
       "      <td>1340.000000</td>\n",
       "      <td>1340.000000</td>\n",
       "      <td>1340.000000</td>\n",
       "      <td>1340.000000</td>\n",
       "      <td>1340.000000</td>\n",
       "      <td>1340.000000</td>\n",
       "      <td>1340.000000</td>\n",
       "    </tr>\n",
       "    <tr>\n",
       "      <th>mean</th>\n",
       "      <td>60.414179</td>\n",
       "      <td>17.624627</td>\n",
       "      <td>6.801493</td>\n",
       "      <td>2.629104</td>\n",
       "      <td>5.885299</td>\n",
       "      <td>44.169403</td>\n",
       "      <td>0.247612</td>\n",
       "      <td>0.779179</td>\n",
       "      <td>19.308126</td>\n",
       "      <td>1.297687</td>\n",
       "      <td>1.821940</td>\n",
       "      <td>70.300299</td>\n",
       "      <td>1.009403</td>\n",
       "      <td>2.025746</td>\n",
       "      <td>3.034478</td>\n",
       "      <td>1.550522</td>\n",
       "      <td>0.618507</td>\n",
       "      <td>0.368582</td>\n",
       "      <td>1.193582</td>\n",
       "      <td>0.620149</td>\n",
       "    </tr>\n",
       "    <tr>\n",
       "      <th>std</th>\n",
       "      <td>17.433992</td>\n",
       "      <td>8.307964</td>\n",
       "      <td>4.357545</td>\n",
       "      <td>1.683555</td>\n",
       "      <td>3.593488</td>\n",
       "      <td>6.137679</td>\n",
       "      <td>0.383688</td>\n",
       "      <td>1.061847</td>\n",
       "      <td>15.956966</td>\n",
       "      <td>0.987246</td>\n",
       "      <td>1.322984</td>\n",
       "      <td>10.578479</td>\n",
       "      <td>0.777119</td>\n",
       "      <td>1.360008</td>\n",
       "      <td>2.057774</td>\n",
       "      <td>1.471169</td>\n",
       "      <td>0.409759</td>\n",
       "      <td>0.429049</td>\n",
       "      <td>0.722541</td>\n",
       "      <td>0.485531</td>\n",
       "    </tr>\n",
       "    <tr>\n",
       "      <th>min</th>\n",
       "      <td>11.000000</td>\n",
       "      <td>3.100000</td>\n",
       "      <td>0.700000</td>\n",
       "      <td>0.300000</td>\n",
       "      <td>0.800000</td>\n",
       "      <td>23.800000</td>\n",
       "      <td>0.000000</td>\n",
       "      <td>0.000000</td>\n",
       "      <td>0.000000</td>\n",
       "      <td>0.000000</td>\n",
       "      <td>0.000000</td>\n",
       "      <td>0.000000</td>\n",
       "      <td>0.000000</td>\n",
       "      <td>0.200000</td>\n",
       "      <td>0.300000</td>\n",
       "      <td>0.000000</td>\n",
       "      <td>0.000000</td>\n",
       "      <td>0.000000</td>\n",
       "      <td>0.100000</td>\n",
       "      <td>0.000000</td>\n",
       "    </tr>\n",
       "    <tr>\n",
       "      <th>25%</th>\n",
       "      <td>47.000000</td>\n",
       "      <td>10.875000</td>\n",
       "      <td>3.700000</td>\n",
       "      <td>1.400000</td>\n",
       "      <td>3.300000</td>\n",
       "      <td>40.200000</td>\n",
       "      <td>0.000000</td>\n",
       "      <td>0.000000</td>\n",
       "      <td>0.000000</td>\n",
       "      <td>0.600000</td>\n",
       "      <td>0.900000</td>\n",
       "      <td>64.700000</td>\n",
       "      <td>0.400000</td>\n",
       "      <td>1.000000</td>\n",
       "      <td>1.500000</td>\n",
       "      <td>0.600000</td>\n",
       "      <td>0.300000</td>\n",
       "      <td>0.100000</td>\n",
       "      <td>0.700000</td>\n",
       "      <td>0.000000</td>\n",
       "    </tr>\n",
       "    <tr>\n",
       "      <th>50%</th>\n",
       "      <td>63.000000</td>\n",
       "      <td>16.100000</td>\n",
       "      <td>5.550000</td>\n",
       "      <td>2.100000</td>\n",
       "      <td>4.800000</td>\n",
       "      <td>44.100000</td>\n",
       "      <td>0.100000</td>\n",
       "      <td>0.300000</td>\n",
       "      <td>22.200000</td>\n",
       "      <td>1.000000</td>\n",
       "      <td>1.500000</td>\n",
       "      <td>71.250000</td>\n",
       "      <td>0.800000</td>\n",
       "      <td>1.700000</td>\n",
       "      <td>2.500000</td>\n",
       "      <td>1.100000</td>\n",
       "      <td>0.500000</td>\n",
       "      <td>0.200000</td>\n",
       "      <td>1.000000</td>\n",
       "      <td>1.000000</td>\n",
       "    </tr>\n",
       "    <tr>\n",
       "      <th>75%</th>\n",
       "      <td>77.000000</td>\n",
       "      <td>22.900000</td>\n",
       "      <td>8.800000</td>\n",
       "      <td>3.400000</td>\n",
       "      <td>7.500000</td>\n",
       "      <td>47.900000</td>\n",
       "      <td>0.400000</td>\n",
       "      <td>1.200000</td>\n",
       "      <td>32.500000</td>\n",
       "      <td>1.600000</td>\n",
       "      <td>2.300000</td>\n",
       "      <td>77.600000</td>\n",
       "      <td>1.400000</td>\n",
       "      <td>2.600000</td>\n",
       "      <td>4.000000</td>\n",
       "      <td>2.000000</td>\n",
       "      <td>0.800000</td>\n",
       "      <td>0.500000</td>\n",
       "      <td>1.500000</td>\n",
       "      <td>1.000000</td>\n",
       "    </tr>\n",
       "    <tr>\n",
       "      <th>max</th>\n",
       "      <td>82.000000</td>\n",
       "      <td>40.900000</td>\n",
       "      <td>28.200000</td>\n",
       "      <td>10.200000</td>\n",
       "      <td>19.800000</td>\n",
       "      <td>73.700000</td>\n",
       "      <td>2.300000</td>\n",
       "      <td>6.500000</td>\n",
       "      <td>100.000000</td>\n",
       "      <td>7.700000</td>\n",
       "      <td>10.200000</td>\n",
       "      <td>100.000000</td>\n",
       "      <td>5.300000</td>\n",
       "      <td>9.600000</td>\n",
       "      <td>13.900000</td>\n",
       "      <td>10.600000</td>\n",
       "      <td>2.500000</td>\n",
       "      <td>3.900000</td>\n",
       "      <td>4.400000</td>\n",
       "      <td>1.000000</td>\n",
       "    </tr>\n",
       "  </tbody>\n",
       "</table>\n",
       "</div>"
      ],
      "text/plain": [
       "       Games Played  Minutes Played  Points Per Game  Field Goals Made  \\\n",
       "count   1340.000000     1340.000000      1340.000000       1340.000000   \n",
       "mean      60.414179       17.624627         6.801493          2.629104   \n",
       "std       17.433992        8.307964         4.357545          1.683555   \n",
       "min       11.000000        3.100000         0.700000          0.300000   \n",
       "25%       47.000000       10.875000         3.700000          1.400000   \n",
       "50%       63.000000       16.100000         5.550000          2.100000   \n",
       "75%       77.000000       22.900000         8.800000          3.400000   \n",
       "max       82.000000       40.900000        28.200000         10.200000   \n",
       "\n",
       "       Field Goal Attempts  Field Goal Percent  3 Point Made  3 Point Attempt  \\\n",
       "count          1340.000000         1340.000000   1340.000000      1340.000000   \n",
       "mean              5.885299           44.169403      0.247612         0.779179   \n",
       "std               3.593488            6.137679      0.383688         1.061847   \n",
       "min               0.800000           23.800000      0.000000         0.000000   \n",
       "25%               3.300000           40.200000      0.000000         0.000000   \n",
       "50%               4.800000           44.100000      0.100000         0.300000   \n",
       "75%               7.500000           47.900000      0.400000         1.200000   \n",
       "max              19.800000           73.700000      2.300000         6.500000   \n",
       "\n",
       "       3 Point Percent  Free Throw Made  Free Throw Attempts  \\\n",
       "count      1340.000000      1340.000000          1340.000000   \n",
       "mean         19.308126         1.297687             1.821940   \n",
       "std          15.956966         0.987246             1.322984   \n",
       "min           0.000000         0.000000             0.000000   \n",
       "25%           0.000000         0.600000             0.900000   \n",
       "50%          22.200000         1.000000             1.500000   \n",
       "75%          32.500000         1.600000             2.300000   \n",
       "max         100.000000         7.700000            10.200000   \n",
       "\n",
       "       Free Throw Percent  Offensive Rebounds  Defensive Rebounds  \\\n",
       "count         1340.000000         1340.000000         1340.000000   \n",
       "mean            70.300299            1.009403            2.025746   \n",
       "std             10.578479            0.777119            1.360008   \n",
       "min              0.000000            0.000000            0.200000   \n",
       "25%             64.700000            0.400000            1.000000   \n",
       "50%             71.250000            0.800000            1.700000   \n",
       "75%             77.600000            1.400000            2.600000   \n",
       "max            100.000000            5.300000            9.600000   \n",
       "\n",
       "          Rebounds      Assists       Steals       Blocks    Turnovers  \\\n",
       "count  1340.000000  1340.000000  1340.000000  1340.000000  1340.000000   \n",
       "mean      3.034478     1.550522     0.618507     0.368582     1.193582   \n",
       "std       2.057774     1.471169     0.409759     0.429049     0.722541   \n",
       "min       0.300000     0.000000     0.000000     0.000000     0.100000   \n",
       "25%       1.500000     0.600000     0.300000     0.100000     0.700000   \n",
       "50%       2.500000     1.100000     0.500000     0.200000     1.000000   \n",
       "75%       4.000000     2.000000     0.800000     0.500000     1.500000   \n",
       "max      13.900000    10.600000     2.500000     3.900000     4.400000   \n",
       "\n",
       "       TARGET_5Yrs  \n",
       "count  1340.000000  \n",
       "mean      0.620149  \n",
       "std       0.485531  \n",
       "min       0.000000  \n",
       "25%       0.000000  \n",
       "50%       1.000000  \n",
       "75%       1.000000  \n",
       "max       1.000000  "
      ]
     },
     "execution_count": 13,
     "metadata": {},
     "output_type": "execute_result"
    }
   ],
   "source": [
    "df.describe()"
   ]
  },
  {
   "cell_type": "code",
   "execution_count": 14,
   "id": "ccc64fae",
   "metadata": {},
   "outputs": [
    {
     "data": {
      "text/html": [
       "<div>\n",
       "<style scoped>\n",
       "    .dataframe tbody tr th:only-of-type {\n",
       "        vertical-align: middle;\n",
       "    }\n",
       "\n",
       "    .dataframe tbody tr th {\n",
       "        vertical-align: top;\n",
       "    }\n",
       "\n",
       "    .dataframe thead th {\n",
       "        text-align: right;\n",
       "    }\n",
       "</style>\n",
       "<table border=\"1\" class=\"dataframe\">\n",
       "  <thead>\n",
       "    <tr style=\"text-align: right;\">\n",
       "      <th></th>\n",
       "      <th>Games Played</th>\n",
       "      <th>Minutes Played</th>\n",
       "      <th>Points Per Game</th>\n",
       "      <th>Field Goals Made</th>\n",
       "      <th>Field Goal Attempts</th>\n",
       "      <th>Field Goal Percent</th>\n",
       "      <th>3 Point Made</th>\n",
       "      <th>3 Point Attempt</th>\n",
       "      <th>3 Point Percent</th>\n",
       "      <th>Free Throw Made</th>\n",
       "      <th>Free Throw Attempts</th>\n",
       "      <th>Free Throw Percent</th>\n",
       "      <th>Offensive Rebounds</th>\n",
       "      <th>Defensive Rebounds</th>\n",
       "      <th>Rebounds</th>\n",
       "      <th>Assists</th>\n",
       "      <th>Steals</th>\n",
       "      <th>Blocks</th>\n",
       "      <th>Turnovers</th>\n",
       "      <th>TARGET_5Yrs</th>\n",
       "    </tr>\n",
       "  </thead>\n",
       "  <tbody>\n",
       "    <tr>\n",
       "      <th>Games Played</th>\n",
       "      <td>1.000000</td>\n",
       "      <td>0.590240</td>\n",
       "      <td>0.538471</td>\n",
       "      <td>0.542724</td>\n",
       "      <td>0.516625</td>\n",
       "      <td>0.296289</td>\n",
       "      <td>0.107423</td>\n",
       "      <td>0.098772</td>\n",
       "      <td>0.038155</td>\n",
       "      <td>0.482123</td>\n",
       "      <td>0.479487</td>\n",
       "      <td>0.196299</td>\n",
       "      <td>0.401136</td>\n",
       "      <td>0.466840</td>\n",
       "      <td>0.460406</td>\n",
       "      <td>0.372749</td>\n",
       "      <td>0.451137</td>\n",
       "      <td>0.276498</td>\n",
       "      <td>0.518167</td>\n",
       "      <td>0.396833</td>\n",
       "    </tr>\n",
       "    <tr>\n",
       "      <th>Minutes Played</th>\n",
       "      <td>0.590240</td>\n",
       "      <td>1.000000</td>\n",
       "      <td>0.911822</td>\n",
       "      <td>0.903060</td>\n",
       "      <td>0.910247</td>\n",
       "      <td>0.203901</td>\n",
       "      <td>0.389920</td>\n",
       "      <td>0.403258</td>\n",
       "      <td>0.165701</td>\n",
       "      <td>0.791000</td>\n",
       "      <td>0.779609</td>\n",
       "      <td>0.239878</td>\n",
       "      <td>0.573062</td>\n",
       "      <td>0.745513</td>\n",
       "      <td>0.709707</td>\n",
       "      <td>0.629015</td>\n",
       "      <td>0.757034</td>\n",
       "      <td>0.399088</td>\n",
       "      <td>0.826500</td>\n",
       "      <td>0.317805</td>\n",
       "    </tr>\n",
       "    <tr>\n",
       "      <th>Points Per Game</th>\n",
       "      <td>0.538471</td>\n",
       "      <td>0.911822</td>\n",
       "      <td>1.000000</td>\n",
       "      <td>0.990834</td>\n",
       "      <td>0.979733</td>\n",
       "      <td>0.255333</td>\n",
       "      <td>0.346682</td>\n",
       "      <td>0.356751</td>\n",
       "      <td>0.150731</td>\n",
       "      <td>0.896297</td>\n",
       "      <td>0.880703</td>\n",
       "      <td>0.258931</td>\n",
       "      <td>0.575106</td>\n",
       "      <td>0.693934</td>\n",
       "      <td>0.676849</td>\n",
       "      <td>0.552338</td>\n",
       "      <td>0.675341</td>\n",
       "      <td>0.387043</td>\n",
       "      <td>0.850366</td>\n",
       "      <td>0.315981</td>\n",
       "    </tr>\n",
       "    <tr>\n",
       "      <th>Field Goals Made</th>\n",
       "      <td>0.542724</td>\n",
       "      <td>0.903060</td>\n",
       "      <td>0.990834</td>\n",
       "      <td>1.000000</td>\n",
       "      <td>0.980050</td>\n",
       "      <td>0.291693</td>\n",
       "      <td>0.289007</td>\n",
       "      <td>0.299057</td>\n",
       "      <td>0.119234</td>\n",
       "      <td>0.848019</td>\n",
       "      <td>0.840408</td>\n",
       "      <td>0.223566</td>\n",
       "      <td>0.596687</td>\n",
       "      <td>0.703278</td>\n",
       "      <td>0.691186</td>\n",
       "      <td>0.532534</td>\n",
       "      <td>0.662640</td>\n",
       "      <td>0.398125</td>\n",
       "      <td>0.834352</td>\n",
       "      <td>0.317594</td>\n",
       "    </tr>\n",
       "    <tr>\n",
       "      <th>Field Goal Attempts</th>\n",
       "      <td>0.516625</td>\n",
       "      <td>0.910247</td>\n",
       "      <td>0.979733</td>\n",
       "      <td>0.980050</td>\n",
       "      <td>1.000000</td>\n",
       "      <td>0.129798</td>\n",
       "      <td>0.390253</td>\n",
       "      <td>0.413560</td>\n",
       "      <td>0.196639</td>\n",
       "      <td>0.826616</td>\n",
       "      <td>0.805559</td>\n",
       "      <td>0.269614</td>\n",
       "      <td>0.504212</td>\n",
       "      <td>0.640123</td>\n",
       "      <td>0.614328</td>\n",
       "      <td>0.589818</td>\n",
       "      <td>0.690168</td>\n",
       "      <td>0.322184</td>\n",
       "      <td>0.845989</td>\n",
       "      <td>0.292660</td>\n",
       "    </tr>\n",
       "    <tr>\n",
       "      <th>Field Goal Percent</th>\n",
       "      <td>0.296289</td>\n",
       "      <td>0.203901</td>\n",
       "      <td>0.255333</td>\n",
       "      <td>0.291693</td>\n",
       "      <td>0.129798</td>\n",
       "      <td>1.000000</td>\n",
       "      <td>-0.294471</td>\n",
       "      <td>-0.350658</td>\n",
       "      <td>-0.328353</td>\n",
       "      <td>0.245776</td>\n",
       "      <td>0.300154</td>\n",
       "      <td>-0.161183</td>\n",
       "      <td>0.511367</td>\n",
       "      <td>0.410555</td>\n",
       "      <td>0.465423</td>\n",
       "      <td>-0.108797</td>\n",
       "      <td>0.056658</td>\n",
       "      <td>0.391626</td>\n",
       "      <td>0.121806</td>\n",
       "      <td>0.227134</td>\n",
       "    </tr>\n",
       "    <tr>\n",
       "      <th>3 Point Made</th>\n",
       "      <td>0.107423</td>\n",
       "      <td>0.389920</td>\n",
       "      <td>0.346682</td>\n",
       "      <td>0.289007</td>\n",
       "      <td>0.390253</td>\n",
       "      <td>-0.294471</td>\n",
       "      <td>1.000000</td>\n",
       "      <td>0.982616</td>\n",
       "      <td>0.588837</td>\n",
       "      <td>0.158472</td>\n",
       "      <td>0.095396</td>\n",
       "      <td>0.314355</td>\n",
       "      <td>-0.219010</td>\n",
       "      <td>0.016570</td>\n",
       "      <td>-0.072503</td>\n",
       "      <td>0.376604</td>\n",
       "      <td>0.306908</td>\n",
       "      <td>-0.158535</td>\n",
       "      <td>0.258369</td>\n",
       "      <td>0.036619</td>\n",
       "    </tr>\n",
       "    <tr>\n",
       "      <th>3 Point Attempt</th>\n",
       "      <td>0.098772</td>\n",
       "      <td>0.403258</td>\n",
       "      <td>0.356751</td>\n",
       "      <td>0.299057</td>\n",
       "      <td>0.413560</td>\n",
       "      <td>-0.350658</td>\n",
       "      <td>0.982616</td>\n",
       "      <td>1.000000</td>\n",
       "      <td>0.581037</td>\n",
       "      <td>0.173533</td>\n",
       "      <td>0.108388</td>\n",
       "      <td>0.323612</td>\n",
       "      <td>-0.231897</td>\n",
       "      <td>0.011226</td>\n",
       "      <td>-0.080939</td>\n",
       "      <td>0.410531</td>\n",
       "      <td>0.338631</td>\n",
       "      <td>-0.172150</td>\n",
       "      <td>0.283925</td>\n",
       "      <td>0.018110</td>\n",
       "    </tr>\n",
       "    <tr>\n",
       "      <th>3 Point Percent</th>\n",
       "      <td>0.038155</td>\n",
       "      <td>0.165701</td>\n",
       "      <td>0.150731</td>\n",
       "      <td>0.119234</td>\n",
       "      <td>0.196639</td>\n",
       "      <td>-0.328353</td>\n",
       "      <td>0.588837</td>\n",
       "      <td>0.581037</td>\n",
       "      <td>1.000000</td>\n",
       "      <td>0.030259</td>\n",
       "      <td>-0.032289</td>\n",
       "      <td>0.322305</td>\n",
       "      <td>-0.288333</td>\n",
       "      <td>-0.122665</td>\n",
       "      <td>-0.190708</td>\n",
       "      <td>0.261572</td>\n",
       "      <td>0.193895</td>\n",
       "      <td>-0.240987</td>\n",
       "      <td>0.108119</td>\n",
       "      <td>-0.003394</td>\n",
       "    </tr>\n",
       "    <tr>\n",
       "      <th>Free Throw Made</th>\n",
       "      <td>0.482123</td>\n",
       "      <td>0.791000</td>\n",
       "      <td>0.896297</td>\n",
       "      <td>0.848019</td>\n",
       "      <td>0.826616</td>\n",
       "      <td>0.245776</td>\n",
       "      <td>0.158472</td>\n",
       "      <td>0.173533</td>\n",
       "      <td>0.030259</td>\n",
       "      <td>1.000000</td>\n",
       "      <td>0.980505</td>\n",
       "      <td>0.257818</td>\n",
       "      <td>0.583865</td>\n",
       "      <td>0.653823</td>\n",
       "      <td>0.653833</td>\n",
       "      <td>0.476214</td>\n",
       "      <td>0.600158</td>\n",
       "      <td>0.407466</td>\n",
       "      <td>0.804990</td>\n",
       "      <td>0.296841</td>\n",
       "    </tr>\n",
       "    <tr>\n",
       "      <th>Free Throw Attempts</th>\n",
       "      <td>0.479487</td>\n",
       "      <td>0.779609</td>\n",
       "      <td>0.880703</td>\n",
       "      <td>0.840408</td>\n",
       "      <td>0.805559</td>\n",
       "      <td>0.300154</td>\n",
       "      <td>0.095396</td>\n",
       "      <td>0.108388</td>\n",
       "      <td>-0.032289</td>\n",
       "      <td>0.980505</td>\n",
       "      <td>1.000000</td>\n",
       "      <td>0.114872</td>\n",
       "      <td>0.653445</td>\n",
       "      <td>0.700863</td>\n",
       "      <td>0.711425</td>\n",
       "      <td>0.428624</td>\n",
       "      <td>0.580065</td>\n",
       "      <td>0.468974</td>\n",
       "      <td>0.798936</td>\n",
       "      <td>0.296089</td>\n",
       "    </tr>\n",
       "    <tr>\n",
       "      <th>Free Throw Percent</th>\n",
       "      <td>0.196299</td>\n",
       "      <td>0.239878</td>\n",
       "      <td>0.258931</td>\n",
       "      <td>0.223566</td>\n",
       "      <td>0.269614</td>\n",
       "      <td>-0.161183</td>\n",
       "      <td>0.314355</td>\n",
       "      <td>0.323612</td>\n",
       "      <td>0.322305</td>\n",
       "      <td>0.257818</td>\n",
       "      <td>0.114872</td>\n",
       "      <td>1.000000</td>\n",
       "      <td>-0.146786</td>\n",
       "      <td>-0.022905</td>\n",
       "      <td>-0.071105</td>\n",
       "      <td>0.296315</td>\n",
       "      <td>0.207205</td>\n",
       "      <td>-0.161152</td>\n",
       "      <td>0.199742</td>\n",
       "      <td>0.106706</td>\n",
       "    </tr>\n",
       "    <tr>\n",
       "      <th>Offensive Rebounds</th>\n",
       "      <td>0.401136</td>\n",
       "      <td>0.573062</td>\n",
       "      <td>0.575106</td>\n",
       "      <td>0.596687</td>\n",
       "      <td>0.504212</td>\n",
       "      <td>0.511367</td>\n",
       "      <td>-0.219010</td>\n",
       "      <td>-0.231897</td>\n",
       "      <td>-0.288333</td>\n",
       "      <td>0.583865</td>\n",
       "      <td>0.653445</td>\n",
       "      <td>-0.146786</td>\n",
       "      <td>1.000000</td>\n",
       "      <td>0.838580</td>\n",
       "      <td>0.932694</td>\n",
       "      <td>-0.012109</td>\n",
       "      <td>0.286545</td>\n",
       "      <td>0.648346</td>\n",
       "      <td>0.421695</td>\n",
       "      <td>0.293307</td>\n",
       "    </tr>\n",
       "    <tr>\n",
       "      <th>Defensive Rebounds</th>\n",
       "      <td>0.466840</td>\n",
       "      <td>0.745513</td>\n",
       "      <td>0.693934</td>\n",
       "      <td>0.703278</td>\n",
       "      <td>0.640123</td>\n",
       "      <td>0.410555</td>\n",
       "      <td>0.016570</td>\n",
       "      <td>0.011226</td>\n",
       "      <td>-0.122665</td>\n",
       "      <td>0.653823</td>\n",
       "      <td>0.700863</td>\n",
       "      <td>-0.022905</td>\n",
       "      <td>0.838580</td>\n",
       "      <td>1.000000</td>\n",
       "      <td>0.978177</td>\n",
       "      <td>0.186679</td>\n",
       "      <td>0.411894</td>\n",
       "      <td>0.688135</td>\n",
       "      <td>0.570187</td>\n",
       "      <td>0.284677</td>\n",
       "    </tr>\n",
       "    <tr>\n",
       "      <th>Rebounds</th>\n",
       "      <td>0.460406</td>\n",
       "      <td>0.709707</td>\n",
       "      <td>0.676849</td>\n",
       "      <td>0.691186</td>\n",
       "      <td>0.614328</td>\n",
       "      <td>0.465423</td>\n",
       "      <td>-0.072503</td>\n",
       "      <td>-0.080939</td>\n",
       "      <td>-0.190708</td>\n",
       "      <td>0.653833</td>\n",
       "      <td>0.711425</td>\n",
       "      <td>-0.071105</td>\n",
       "      <td>0.932694</td>\n",
       "      <td>0.978177</td>\n",
       "      <td>1.000000</td>\n",
       "      <td>0.119081</td>\n",
       "      <td>0.381154</td>\n",
       "      <td>0.699672</td>\n",
       "      <td>0.536716</td>\n",
       "      <td>0.299406</td>\n",
       "    </tr>\n",
       "    <tr>\n",
       "      <th>Assists</th>\n",
       "      <td>0.372749</td>\n",
       "      <td>0.629015</td>\n",
       "      <td>0.552338</td>\n",
       "      <td>0.532534</td>\n",
       "      <td>0.589818</td>\n",
       "      <td>-0.108797</td>\n",
       "      <td>0.376604</td>\n",
       "      <td>0.410531</td>\n",
       "      <td>0.261572</td>\n",
       "      <td>0.476214</td>\n",
       "      <td>0.428624</td>\n",
       "      <td>0.296315</td>\n",
       "      <td>-0.012109</td>\n",
       "      <td>0.186679</td>\n",
       "      <td>0.119081</td>\n",
       "      <td>1.000000</td>\n",
       "      <td>0.751289</td>\n",
       "      <td>-0.086470</td>\n",
       "      <td>0.747286</td>\n",
       "      <td>0.175353</td>\n",
       "    </tr>\n",
       "    <tr>\n",
       "      <th>Steals</th>\n",
       "      <td>0.451137</td>\n",
       "      <td>0.757034</td>\n",
       "      <td>0.675341</td>\n",
       "      <td>0.662640</td>\n",
       "      <td>0.690168</td>\n",
       "      <td>0.056658</td>\n",
       "      <td>0.306908</td>\n",
       "      <td>0.338631</td>\n",
       "      <td>0.193895</td>\n",
       "      <td>0.600158</td>\n",
       "      <td>0.580065</td>\n",
       "      <td>0.207205</td>\n",
       "      <td>0.286545</td>\n",
       "      <td>0.411894</td>\n",
       "      <td>0.381154</td>\n",
       "      <td>0.751289</td>\n",
       "      <td>1.000000</td>\n",
       "      <td>0.133808</td>\n",
       "      <td>0.741988</td>\n",
       "      <td>0.229811</td>\n",
       "    </tr>\n",
       "    <tr>\n",
       "      <th>Blocks</th>\n",
       "      <td>0.276498</td>\n",
       "      <td>0.399088</td>\n",
       "      <td>0.387043</td>\n",
       "      <td>0.398125</td>\n",
       "      <td>0.322184</td>\n",
       "      <td>0.391626</td>\n",
       "      <td>-0.158535</td>\n",
       "      <td>-0.172150</td>\n",
       "      <td>-0.240987</td>\n",
       "      <td>0.407466</td>\n",
       "      <td>0.468974</td>\n",
       "      <td>-0.161152</td>\n",
       "      <td>0.648346</td>\n",
       "      <td>0.688135</td>\n",
       "      <td>0.699672</td>\n",
       "      <td>-0.086470</td>\n",
       "      <td>0.133808</td>\n",
       "      <td>1.000000</td>\n",
       "      <td>0.282150</td>\n",
       "      <td>0.210114</td>\n",
       "    </tr>\n",
       "    <tr>\n",
       "      <th>Turnovers</th>\n",
       "      <td>0.518167</td>\n",
       "      <td>0.826500</td>\n",
       "      <td>0.850366</td>\n",
       "      <td>0.834352</td>\n",
       "      <td>0.845989</td>\n",
       "      <td>0.121806</td>\n",
       "      <td>0.258369</td>\n",
       "      <td>0.283925</td>\n",
       "      <td>0.108119</td>\n",
       "      <td>0.804990</td>\n",
       "      <td>0.798936</td>\n",
       "      <td>0.199742</td>\n",
       "      <td>0.421695</td>\n",
       "      <td>0.570187</td>\n",
       "      <td>0.536716</td>\n",
       "      <td>0.747286</td>\n",
       "      <td>0.741988</td>\n",
       "      <td>0.282150</td>\n",
       "      <td>1.000000</td>\n",
       "      <td>0.272348</td>\n",
       "    </tr>\n",
       "    <tr>\n",
       "      <th>TARGET_5Yrs</th>\n",
       "      <td>0.396833</td>\n",
       "      <td>0.317805</td>\n",
       "      <td>0.315981</td>\n",
       "      <td>0.317594</td>\n",
       "      <td>0.292660</td>\n",
       "      <td>0.227134</td>\n",
       "      <td>0.036619</td>\n",
       "      <td>0.018110</td>\n",
       "      <td>-0.003394</td>\n",
       "      <td>0.296841</td>\n",
       "      <td>0.296089</td>\n",
       "      <td>0.106706</td>\n",
       "      <td>0.293307</td>\n",
       "      <td>0.284677</td>\n",
       "      <td>0.299406</td>\n",
       "      <td>0.175353</td>\n",
       "      <td>0.229811</td>\n",
       "      <td>0.210114</td>\n",
       "      <td>0.272348</td>\n",
       "      <td>1.000000</td>\n",
       "    </tr>\n",
       "  </tbody>\n",
       "</table>\n",
       "</div>"
      ],
      "text/plain": [
       "                     Games Played  Minutes Played  Points Per Game  \\\n",
       "Games Played             1.000000        0.590240         0.538471   \n",
       "Minutes Played           0.590240        1.000000         0.911822   \n",
       "Points Per Game          0.538471        0.911822         1.000000   \n",
       "Field Goals Made         0.542724        0.903060         0.990834   \n",
       "Field Goal Attempts      0.516625        0.910247         0.979733   \n",
       "Field Goal Percent       0.296289        0.203901         0.255333   \n",
       "3 Point Made             0.107423        0.389920         0.346682   \n",
       "3 Point Attempt          0.098772        0.403258         0.356751   \n",
       "3 Point Percent          0.038155        0.165701         0.150731   \n",
       "Free Throw Made          0.482123        0.791000         0.896297   \n",
       "Free Throw Attempts      0.479487        0.779609         0.880703   \n",
       "Free Throw Percent       0.196299        0.239878         0.258931   \n",
       "Offensive Rebounds       0.401136        0.573062         0.575106   \n",
       "Defensive Rebounds       0.466840        0.745513         0.693934   \n",
       "Rebounds                 0.460406        0.709707         0.676849   \n",
       "Assists                  0.372749        0.629015         0.552338   \n",
       "Steals                   0.451137        0.757034         0.675341   \n",
       "Blocks                   0.276498        0.399088         0.387043   \n",
       "Turnovers                0.518167        0.826500         0.850366   \n",
       "TARGET_5Yrs              0.396833        0.317805         0.315981   \n",
       "\n",
       "                     Field Goals Made  Field Goal Attempts  \\\n",
       "Games Played                 0.542724             0.516625   \n",
       "Minutes Played               0.903060             0.910247   \n",
       "Points Per Game              0.990834             0.979733   \n",
       "Field Goals Made             1.000000             0.980050   \n",
       "Field Goal Attempts          0.980050             1.000000   \n",
       "Field Goal Percent           0.291693             0.129798   \n",
       "3 Point Made                 0.289007             0.390253   \n",
       "3 Point Attempt              0.299057             0.413560   \n",
       "3 Point Percent              0.119234             0.196639   \n",
       "Free Throw Made              0.848019             0.826616   \n",
       "Free Throw Attempts          0.840408             0.805559   \n",
       "Free Throw Percent           0.223566             0.269614   \n",
       "Offensive Rebounds           0.596687             0.504212   \n",
       "Defensive Rebounds           0.703278             0.640123   \n",
       "Rebounds                     0.691186             0.614328   \n",
       "Assists                      0.532534             0.589818   \n",
       "Steals                       0.662640             0.690168   \n",
       "Blocks                       0.398125             0.322184   \n",
       "Turnovers                    0.834352             0.845989   \n",
       "TARGET_5Yrs                  0.317594             0.292660   \n",
       "\n",
       "                     Field Goal Percent  3 Point Made  3 Point Attempt  \\\n",
       "Games Played                   0.296289      0.107423         0.098772   \n",
       "Minutes Played                 0.203901      0.389920         0.403258   \n",
       "Points Per Game                0.255333      0.346682         0.356751   \n",
       "Field Goals Made               0.291693      0.289007         0.299057   \n",
       "Field Goal Attempts            0.129798      0.390253         0.413560   \n",
       "Field Goal Percent             1.000000     -0.294471        -0.350658   \n",
       "3 Point Made                  -0.294471      1.000000         0.982616   \n",
       "3 Point Attempt               -0.350658      0.982616         1.000000   \n",
       "3 Point Percent               -0.328353      0.588837         0.581037   \n",
       "Free Throw Made                0.245776      0.158472         0.173533   \n",
       "Free Throw Attempts            0.300154      0.095396         0.108388   \n",
       "Free Throw Percent            -0.161183      0.314355         0.323612   \n",
       "Offensive Rebounds             0.511367     -0.219010        -0.231897   \n",
       "Defensive Rebounds             0.410555      0.016570         0.011226   \n",
       "Rebounds                       0.465423     -0.072503        -0.080939   \n",
       "Assists                       -0.108797      0.376604         0.410531   \n",
       "Steals                         0.056658      0.306908         0.338631   \n",
       "Blocks                         0.391626     -0.158535        -0.172150   \n",
       "Turnovers                      0.121806      0.258369         0.283925   \n",
       "TARGET_5Yrs                    0.227134      0.036619         0.018110   \n",
       "\n",
       "                     3 Point Percent  Free Throw Made  Free Throw Attempts  \\\n",
       "Games Played                0.038155         0.482123             0.479487   \n",
       "Minutes Played              0.165701         0.791000             0.779609   \n",
       "Points Per Game             0.150731         0.896297             0.880703   \n",
       "Field Goals Made            0.119234         0.848019             0.840408   \n",
       "Field Goal Attempts         0.196639         0.826616             0.805559   \n",
       "Field Goal Percent         -0.328353         0.245776             0.300154   \n",
       "3 Point Made                0.588837         0.158472             0.095396   \n",
       "3 Point Attempt             0.581037         0.173533             0.108388   \n",
       "3 Point Percent             1.000000         0.030259            -0.032289   \n",
       "Free Throw Made             0.030259         1.000000             0.980505   \n",
       "Free Throw Attempts        -0.032289         0.980505             1.000000   \n",
       "Free Throw Percent          0.322305         0.257818             0.114872   \n",
       "Offensive Rebounds         -0.288333         0.583865             0.653445   \n",
       "Defensive Rebounds         -0.122665         0.653823             0.700863   \n",
       "Rebounds                   -0.190708         0.653833             0.711425   \n",
       "Assists                     0.261572         0.476214             0.428624   \n",
       "Steals                      0.193895         0.600158             0.580065   \n",
       "Blocks                     -0.240987         0.407466             0.468974   \n",
       "Turnovers                   0.108119         0.804990             0.798936   \n",
       "TARGET_5Yrs                -0.003394         0.296841             0.296089   \n",
       "\n",
       "                     Free Throw Percent  Offensive Rebounds  \\\n",
       "Games Played                   0.196299            0.401136   \n",
       "Minutes Played                 0.239878            0.573062   \n",
       "Points Per Game                0.258931            0.575106   \n",
       "Field Goals Made               0.223566            0.596687   \n",
       "Field Goal Attempts            0.269614            0.504212   \n",
       "Field Goal Percent            -0.161183            0.511367   \n",
       "3 Point Made                   0.314355           -0.219010   \n",
       "3 Point Attempt                0.323612           -0.231897   \n",
       "3 Point Percent                0.322305           -0.288333   \n",
       "Free Throw Made                0.257818            0.583865   \n",
       "Free Throw Attempts            0.114872            0.653445   \n",
       "Free Throw Percent             1.000000           -0.146786   \n",
       "Offensive Rebounds            -0.146786            1.000000   \n",
       "Defensive Rebounds            -0.022905            0.838580   \n",
       "Rebounds                      -0.071105            0.932694   \n",
       "Assists                        0.296315           -0.012109   \n",
       "Steals                         0.207205            0.286545   \n",
       "Blocks                        -0.161152            0.648346   \n",
       "Turnovers                      0.199742            0.421695   \n",
       "TARGET_5Yrs                    0.106706            0.293307   \n",
       "\n",
       "                     Defensive Rebounds  Rebounds   Assists    Steals  \\\n",
       "Games Played                   0.466840  0.460406  0.372749  0.451137   \n",
       "Minutes Played                 0.745513  0.709707  0.629015  0.757034   \n",
       "Points Per Game                0.693934  0.676849  0.552338  0.675341   \n",
       "Field Goals Made               0.703278  0.691186  0.532534  0.662640   \n",
       "Field Goal Attempts            0.640123  0.614328  0.589818  0.690168   \n",
       "Field Goal Percent             0.410555  0.465423 -0.108797  0.056658   \n",
       "3 Point Made                   0.016570 -0.072503  0.376604  0.306908   \n",
       "3 Point Attempt                0.011226 -0.080939  0.410531  0.338631   \n",
       "3 Point Percent               -0.122665 -0.190708  0.261572  0.193895   \n",
       "Free Throw Made                0.653823  0.653833  0.476214  0.600158   \n",
       "Free Throw Attempts            0.700863  0.711425  0.428624  0.580065   \n",
       "Free Throw Percent            -0.022905 -0.071105  0.296315  0.207205   \n",
       "Offensive Rebounds             0.838580  0.932694 -0.012109  0.286545   \n",
       "Defensive Rebounds             1.000000  0.978177  0.186679  0.411894   \n",
       "Rebounds                       0.978177  1.000000  0.119081  0.381154   \n",
       "Assists                        0.186679  0.119081  1.000000  0.751289   \n",
       "Steals                         0.411894  0.381154  0.751289  1.000000   \n",
       "Blocks                         0.688135  0.699672 -0.086470  0.133808   \n",
       "Turnovers                      0.570187  0.536716  0.747286  0.741988   \n",
       "TARGET_5Yrs                    0.284677  0.299406  0.175353  0.229811   \n",
       "\n",
       "                       Blocks  Turnovers  TARGET_5Yrs  \n",
       "Games Played         0.276498   0.518167     0.396833  \n",
       "Minutes Played       0.399088   0.826500     0.317805  \n",
       "Points Per Game      0.387043   0.850366     0.315981  \n",
       "Field Goals Made     0.398125   0.834352     0.317594  \n",
       "Field Goal Attempts  0.322184   0.845989     0.292660  \n",
       "Field Goal Percent   0.391626   0.121806     0.227134  \n",
       "3 Point Made        -0.158535   0.258369     0.036619  \n",
       "3 Point Attempt     -0.172150   0.283925     0.018110  \n",
       "3 Point Percent     -0.240987   0.108119    -0.003394  \n",
       "Free Throw Made      0.407466   0.804990     0.296841  \n",
       "Free Throw Attempts  0.468974   0.798936     0.296089  \n",
       "Free Throw Percent  -0.161152   0.199742     0.106706  \n",
       "Offensive Rebounds   0.648346   0.421695     0.293307  \n",
       "Defensive Rebounds   0.688135   0.570187     0.284677  \n",
       "Rebounds             0.699672   0.536716     0.299406  \n",
       "Assists             -0.086470   0.747286     0.175353  \n",
       "Steals               0.133808   0.741988     0.229811  \n",
       "Blocks               1.000000   0.282150     0.210114  \n",
       "Turnovers            0.282150   1.000000     0.272348  \n",
       "TARGET_5Yrs          0.210114   0.272348     1.000000  "
      ]
     },
     "execution_count": 14,
     "metadata": {},
     "output_type": "execute_result"
    }
   ],
   "source": [
    "df.corr()"
   ]
  },
  {
   "cell_type": "code",
   "execution_count": 129,
   "id": "ee8ac4bd",
   "metadata": {},
   "outputs": [
    {
     "data": {
      "text/plain": [
       "<AxesSubplot:>"
      ]
     },
     "execution_count": 129,
     "metadata": {},
     "output_type": "execute_result"
    },
    {
     "data": {
      "image/png": "[encoded data removed]",
      "text/plain": [
       "<Figure size 1440x720 with 2 Axes>"
      ]
     },
     "metadata": {
      "needs_background": "light"
     },
     "output_type": "display_data"
    }
   ],
   "source": [
    "plt.figure(figsize=(20,10))\n",
    "sns.heatmap(df.corr(), annot=True)\n",
    "\n"
   ]
  },
  {
   "cell_type": "code",
   "execution_count": 15,
   "id": "0e2a66d3",
   "metadata": {},
   "outputs": [
    {
     "name": "stdout",
     "output_type": "stream",
     "text": [
      "TARGET_5Yrs\n",
      "0    509\n",
      "1    831\n",
      "Name: Games Played, dtype: int64\n"
     ]
    }
   ],
   "source": [
    "#grouping and counting the dataset based on the target variable\n",
    "print(df.groupby('TARGET_5Yrs')['Games Played'].count())"
   ]
  },
  {
   "cell_type": "code",
   "execution_count": 16,
   "id": "2ea554c3",
   "metadata": {},
   "outputs": [],
   "source": [
    "#defining input and output\n",
    "x = df.iloc[:, 1].values #input\n",
    "y = df.iloc[:, -1].values #output"
   ]
  },
  {
   "cell_type": "code",
   "execution_count": 17,
   "id": "f02cd1db",
   "metadata": {},
   "outputs": [],
   "source": [
    "x = x.reshape(-1, 1)"
   ]
  },
  {
   "cell_type": "code",
   "execution_count": 18,
   "id": "6f50b7e5",
   "metadata": {},
   "outputs": [],
   "source": [
    "scaler = StandardScaler()\n",
    "x_new = scaler.fit_transform(x)\n",
    "x1 = pd.DataFrame(x_new, columns =['Games Played'])"
   ]
  },
  {
   "cell_type": "code",
   "execution_count": 19,
   "id": "62a4464c",
   "metadata": {},
   "outputs": [],
   "source": [
    "#training and test sets:\n",
    "x_train, x_test, y_train, y_test = train_test_split(x, y, test_size= 1/3, \n",
    "random_state=0)"
   ]
  },
  {
   "cell_type": "code",
   "execution_count": 20,
   "id": "2191ef36",
   "metadata": {},
   "outputs": [],
   "source": [
    "#reshaping the dataset\n",
    "x_train = x_train.reshape(-1,1)\n",
    "x_test = x_test.reshape(-1,1)"
   ]
  },
  {
   "cell_type": "code",
   "execution_count": 21,
   "id": "407a2fb5",
   "metadata": {},
   "outputs": [
    {
     "data": {
      "text/plain": [
       "LogisticRegression(max_iter=1000)"
      ]
     },
     "execution_count": 21,
     "metadata": {},
     "output_type": "execute_result"
    }
   ],
   "source": [
    "#logistic regression\n",
    "logre = LogisticRegression(max_iter=1000)\n",
    "logre.fit(x_train, y_train)"
   ]
  },
  {
   "cell_type": "code",
   "execution_count": 22,
   "id": "1766cb35",
   "metadata": {},
   "outputs": [
    {
     "name": "stdout",
     "output_type": "stream",
     "text": [
      "Prediction: [0 0 1 0 1 0 1 1 1 1 1 1 1 1 1 1 0 1 1 0 1 1 1 1 1 1 0 0 1 0 1 1 0 0 1 1 1\n",
      " 1 0 1 1 1 1 1 1 1 1 1 1 1 1 1 0 1 1 1 1 1 0 0 1 1 0 1 1 1 0 0 1 1 0 1 1 1\n",
      " 1 1 1 0 1 0 1 1 1 1 1 0 1 1 1 0 0 1 0 1 1 1 0 1 1 0 1 1 1 0 1 1 1 1 1 0 1\n",
      " 1 1 1 0 1 1 1 0 1 1 1 1 0 0 1 1 0 1 1 1 1 1 0 1 1 1 0 0 1 1 1 1 1 0 0 0 1\n",
      " 0 1 0 0 0 1 1 1 1 0 0 1 0 1 0 0 1 1 1 0 0 0 1 1 1 1 1 0 0 1 1 1 1 1 1 0 1\n",
      " 0 1 1 1 1 1 1 1 0 1 1 0 1 1 1 1 1 0 1 1 1 1 1 1 1 1 1 1 0 1 1 1 1 0 0 0 1\n",
      " 1 1 0 1 1 1 0 1 1 1 0 1 1 1 1 1 1 1 1 0 0 1 0 1 1 1 1 1 1 1 1 1 0 0 1 1 0\n",
      " 1 1 1 0 0 1 1 0 1 1 1 1 0 1 1 1 0 1 1 1 1 1 1 1 0 0 1 1 1 1 1 1 1 1 1 1 0\n",
      " 0 1 1 0 1 1 1 1 1 1 1 1 0 1 0 1 1 1 1 1 1 0 1 1 1 0 1 0 1 1 1 1 1 1 1 1 1\n",
      " 1 1 1 1 0 1 1 1 1 0 1 1 0 1 0 1 0 1 1 1 1 0 1 1 1 1 1 1 1 1 1 1 0 1 1 1 1\n",
      " 1 0 0 0 1 1 1 1 1 1 1 1 1 1 1 1 1 1 1 0 0 1 1 1 1 1 0 0 1 1 1 0 1 1 0 0 1\n",
      " 1 1 1 1 1 1 1 0 1 1 1 1 1 1 1 1 1 0 0 1 0 1 1 1 0 1 1 1 1 0 1 1 1 0 1 1 1\n",
      " 1 0 1]\n"
     ]
    }
   ],
   "source": [
    "y_pred = logre.predict(x_test)\n",
    "print('Prediction:', y_pred)"
   ]
  },
  {
   "cell_type": "code",
   "execution_count": 23,
   "id": "f4ba47ac",
   "metadata": {},
   "outputs": [
    {
     "name": "stdout",
     "output_type": "stream",
     "text": [
      "Our Accuracy is 0.682\n"
     ]
    }
   ],
   "source": [
    "#accuracy of the model\n",
    "print('Our Accuracy is %.3f' % logre.score(x_test, y_test))"
   ]
  },
  {
   "cell_type": "code",
   "execution_count": 24,
   "id": "c737e2b3",
   "metadata": {},
   "outputs": [
    {
     "name": "stdout",
     "output_type": "stream",
     "text": [
      "Number of mislabeled points out of a total 447 points : 142\n"
     ]
    }
   ],
   "source": [
    "#checking the number of mislabeled points\n",
    "print('Number of mislabeled points out of a total %d points : %d'\n",
    "% (x_test.shape[0], (y_test != logre.predict(x_test)).sum()))"
   ]
  },
  {
   "cell_type": "code",
   "execution_count": 25,
   "id": "6d3d828e",
   "metadata": {},
   "outputs": [
    {
     "data": {
      "text/plain": [
       "[<matplotlib.lines.Line2D at 0x7fa0e4beca60>]"
      ]
     },
     "execution_count": 25,
     "metadata": {},
     "output_type": "execute_result"
    },
    {
     "data": {
      "image/png": "[encoded data removed]",
      "text/plain": [
       "<Figure size 432x288 with 1 Axes>"
      ]
     },
     "metadata": {
      "needs_background": "light"
     },
     "output_type": "display_data"
    }
   ],
   "source": [
    "#visualizing datasets\n",
    "fig1, ax1= plt.subplots()\n",
    "ax1.scatter(x_train, y_train, color='blue')\n",
    "ax1.set_xlabel('X')\n",
    "ax1.set_ylabel('Y')\n",
    "ax1.plot(x_test, logre.predict_proba(x_test)[:,1], color='red')"
   ]
  },
  {
   "cell_type": "code",
   "execution_count": 26,
   "id": "8f07a175",
   "metadata": {},
   "outputs": [],
   "source": [
    "#evaluating the model performance\n",
    "conf = metrics.confusion_matrix(y_test, y_pred)"
   ]
  },
  {
   "cell_type": "code",
   "execution_count": 27,
   "id": "43520ab7",
   "metadata": {},
   "outputs": [
    {
     "data": {
      "text/plain": [
       "array([[ 74, 104],\n",
       "       [ 38, 231]])"
      ]
     },
     "execution_count": 27,
     "metadata": {},
     "output_type": "execute_result"
    }
   ],
   "source": [
    "#where conf is confusion metrix\n",
    "conf"
   ]
  },
  {
   "cell_type": "code",
   "execution_count": 28,
   "id": "623e5c40",
   "metadata": {},
   "outputs": [
    {
     "data": {
      "text/plain": [
       "<AxesSubplot:>"
      ]
     },
     "execution_count": 28,
     "metadata": {},
     "output_type": "execute_result"
    },
    {
     "data": {
      "image/png": "[encoded data removed]",
      "text/plain": [
       "<Figure size 720x360 with 2 Axes>"
      ]
     },
     "metadata": {
      "needs_background": "light"
     },
     "output_type": "display_data"
    }
   ],
   "source": [
    "#confusion matrix visualization\n",
    "ylabel = [\"Actual [>=5yrs]\",\"Actual [<=5yrs]\"]\n",
    "xlabel = [\"Pred [>=5yrs]\",\"Pred [<=5yrs]\"]\n",
    "#sns.set(font_scale = 1.5)\n",
    "plt.figure(figsize=(10,5))\n",
    "sns.heatmap(conf, annot=True, xticklabels = xlabel, yticklabels = ylabel, linecolor='black', linewidths=1)"
   ]
  },
  {
   "cell_type": "code",
   "execution_count": 29,
   "id": "ff5e801b",
   "metadata": {},
   "outputs": [
    {
     "name": "stdout",
     "output_type": "stream",
     "text": [
      "              precision    recall  f1-score   support\n",
      "\n",
      "           0       0.66      0.42      0.51       178\n",
      "           1       0.69      0.86      0.76       269\n",
      "\n",
      "    accuracy                           0.68       447\n",
      "   macro avg       0.68      0.64      0.64       447\n",
      "weighted avg       0.68      0.68      0.66       447\n",
      "\n"
     ]
    }
   ],
   "source": [
    "#evaluating model performance using classification report\n",
    "print(classification_report(y_test,y_pred))"
   ]
  },
  {
   "cell_type": "code",
   "execution_count": 30,
   "id": "26375942",
   "metadata": {},
   "outputs": [
    {
     "data": {
      "text/plain": [
       "GaussianNB()"
      ]
     },
     "execution_count": 30,
     "metadata": {},
     "output_type": "execute_result"
    }
   ],
   "source": [
    "#Training the data set with Guassian Naive Bayes Model\n",
    "Gnb = GaussianNB()\n",
    "Gnb.fit(x_train, y_train)"
   ]
  },
  {
   "cell_type": "code",
   "execution_count": 31,
   "id": "bcc2b082",
   "metadata": {},
   "outputs": [
    {
     "name": "stdout",
     "output_type": "stream",
     "text": [
      "Number of mislabeled points out of a total 447 points : 142\n"
     ]
    }
   ],
   "source": [
    "#number of mislabeled points\n",
    "print('Number of mislabeled points out of a total %d points : %d'\n",
    "% (x_test.shape[0], (y_test != Gnb.predict(x_test)).sum()))"
   ]
  },
  {
   "cell_type": "code",
   "execution_count": 32,
   "id": "92932eec",
   "metadata": {},
   "outputs": [
    {
     "name": "stdout",
     "output_type": "stream",
     "text": [
      "Our Accuracy is 0.682\n"
     ]
    }
   ],
   "source": [
    "#checking the accuracy of the model\n",
    "print('Our Accuracy is %.3f' % Gnb.score(x_test, y_test))"
   ]
  },
  {
   "cell_type": "code",
   "execution_count": 33,
   "id": "3b093b75",
   "metadata": {},
   "outputs": [
    {
     "name": "stdout",
     "output_type": "stream",
     "text": [
      "Prediction: [0 0 1 0 1 0 1 1 1 1 1 1 1 1 1 1 0 1 1 0 1 1 1 1 1 1 0 0 1 0 1 1 0 0 1 1 1\n",
      " 1 0 1 1 1 1 1 1 1 1 1 1 1 1 1 0 1 1 1 1 1 0 0 1 1 0 1 1 1 0 0 1 1 0 1 1 1\n",
      " 1 1 1 0 1 0 1 1 1 1 1 0 1 1 1 0 0 1 0 1 1 1 0 1 1 0 1 1 1 0 1 1 1 1 1 0 1\n",
      " 1 1 1 0 1 1 1 0 1 1 1 1 0 0 1 1 0 1 1 1 1 1 0 1 1 1 0 0 1 1 1 1 1 0 0 0 1\n",
      " 0 1 0 0 0 1 1 1 1 0 0 1 0 1 0 0 1 1 1 0 0 0 1 1 1 1 1 0 0 1 1 1 1 1 1 0 1\n",
      " 0 1 1 1 1 1 1 1 0 1 1 0 1 1 1 1 1 0 1 1 1 1 1 1 1 1 1 1 0 1 1 1 1 0 0 0 1\n",
      " 1 1 0 1 1 1 0 1 1 1 0 1 1 1 1 1 1 1 1 0 0 1 0 1 1 1 1 1 1 1 1 1 0 0 1 1 0\n",
      " 1 1 1 0 0 1 1 0 1 1 1 1 0 1 1 1 0 1 1 1 1 1 1 1 0 0 1 1 1 1 1 1 1 1 1 1 0\n",
      " 0 1 1 0 1 1 1 1 1 1 1 1 0 1 0 1 1 1 1 1 1 0 1 1 1 0 1 0 1 1 1 1 1 1 1 1 1\n",
      " 1 1 1 1 0 1 1 1 1 0 1 1 0 1 0 1 0 1 1 1 1 0 1 1 1 1 1 1 1 1 1 1 0 1 1 1 1\n",
      " 1 0 0 0 1 1 1 1 1 1 1 1 1 1 1 1 1 1 1 0 0 1 1 1 1 1 0 0 1 1 1 0 1 1 0 0 1\n",
      " 1 1 1 1 1 1 1 0 1 1 1 1 1 1 1 1 1 0 0 1 0 1 1 1 0 1 1 1 1 0 1 1 1 0 1 1 1\n",
      " 1 0 1]\n"
     ]
    }
   ],
   "source": [
    "y_pred = Gnb.predict(x_test)\n",
    "print('Prediction:', y_pred)"
   ]
  },
  {
   "cell_type": "code",
   "execution_count": 34,
   "id": "c97a8074",
   "metadata": {},
   "outputs": [
    {
     "data": {
      "text/plain": [
       "[<matplotlib.lines.Line2D at 0x7fa0e599e610>]"
      ]
     },
     "execution_count": 34,
     "metadata": {},
     "output_type": "execute_result"
    },
    {
     "data": {
      "image/png": "[encoded data removed]",
      "text/plain": [
       "<Figure size 432x288 with 1 Axes>"
      ]
     },
     "metadata": {
      "needs_background": "light"
     },
     "output_type": "display_data"
    }
   ],
   "source": [
    "#visualizing datasets\n",
    "fig1, ax1= plt.subplots()\n",
    "ax1.scatter(x_train, y_train, color='blue')\n",
    "ax1.set_xlabel('X')\n",
    "ax1.set_ylabel('Y')\n",
    "ax1.plot(x_test,Gnb.predict_proba(x_test)[:,1], color='red')"
   ]
  },
  {
   "cell_type": "code",
   "execution_count": 35,
   "id": "058c1bb0",
   "metadata": {},
   "outputs": [],
   "source": [
    "#model performance\n",
    "conf = metrics.confusion_matrix(y_test, y_pred)"
   ]
  },
  {
   "cell_type": "code",
   "execution_count": 36,
   "id": "8bbb5aa9",
   "metadata": {},
   "outputs": [
    {
     "data": {
      "text/plain": [
       "array([[ 74, 104],\n",
       "       [ 38, 231]])"
      ]
     },
     "execution_count": 36,
     "metadata": {},
     "output_type": "execute_result"
    }
   ],
   "source": [
    "conf"
   ]
  },
  {
   "cell_type": "code",
   "execution_count": 37,
   "id": "167deb74",
   "metadata": {},
   "outputs": [
    {
     "data": {
      "text/plain": [
       "<AxesSubplot:>"
      ]
     },
     "execution_count": 37,
     "metadata": {},
     "output_type": "execute_result"
    },
    {
     "data": {
      "image/png": "[encoded data removed]",
      "text/plain": [
       "<Figure size 720x360 with 2 Axes>"
      ]
     },
     "metadata": {
      "needs_background": "light"
     },
     "output_type": "display_data"
    }
   ],
   "source": [
    "#confusion matrix visualization\n",
    "ylabel = [\"Actual [>=5yrs]\",\"Actual [<=5yrs]\"]\n",
    "xlabel = [\"Pred [>=5yrs]\",\"Pred [<=5yrs]\"]\n",
    "#sns.set(font_scale = 1.5)\n",
    "plt.figure(figsize=(10,5))\n",
    "sns.heatmap(conf, annot=True, xticklabels = xlabel, yticklabels = ylabel, linecolor='black', linewidths=1)"
   ]
  },
  {
   "cell_type": "code",
   "execution_count": 38,
   "id": "d5ff0709",
   "metadata": {},
   "outputs": [
    {
     "name": "stdout",
     "output_type": "stream",
     "text": [
      "              precision    recall  f1-score   support\n",
      "\n",
      "           0       0.66      0.42      0.51       178\n",
      "           1       0.69      0.86      0.76       269\n",
      "\n",
      "    accuracy                           0.68       447\n",
      "   macro avg       0.68      0.64      0.64       447\n",
      "weighted avg       0.68      0.68      0.66       447\n",
      "\n"
     ]
    }
   ],
   "source": [
    "#evaluating model performance using classification report\n",
    "print(classification_report(y_test,y_pred))"
   ]
  },
  {
   "cell_type": "code",
   "execution_count": 39,
   "id": "c2b60f85",
   "metadata": {},
   "outputs": [
    {
     "data": {
      "text/plain": [
       "MLPClassifier(activation='logistic', hidden_layer_sizes=(), max_iter=2000,\n",
       "              random_state=0)"
      ]
     },
     "execution_count": 39,
     "metadata": {},
     "output_type": "execute_result"
    }
   ],
   "source": [
    "#Neural Network\n",
    "#Training the data set with MLP classifier\n",
    "mlp = MLPClassifier(hidden_layer_sizes=(), activation=\"logistic\", random_state=0, max_iter = 2000)\n",
    "mlp.fit(x_train, y_train)"
   ]
  },
  {
   "cell_type": "code",
   "execution_count": 40,
   "id": "31888e8e",
   "metadata": {},
   "outputs": [
    {
     "name": "stdout",
     "output_type": "stream",
     "text": [
      "Prediction: [1 0 1 1 1 0 1 1 1 1 1 1 1 1 1 1 1 1 1 0 1 1 1 1 1 1 0 1 1 0 1 1 1 0 1 1 1\n",
      " 1 0 1 1 1 1 1 1 1 1 1 1 1 1 1 0 1 1 1 1 1 0 1 1 1 1 1 1 1 1 0 1 1 1 1 1 1\n",
      " 1 1 1 1 1 0 1 1 1 1 1 1 1 1 1 1 1 1 1 1 1 1 1 1 1 0 1 1 1 0 1 1 1 1 1 1 1\n",
      " 1 1 1 1 1 1 1 0 1 1 1 1 1 0 1 1 1 1 1 1 1 1 0 1 1 1 0 1 1 1 1 1 1 1 1 1 1\n",
      " 1 1 1 0 0 1 1 1 1 1 1 1 0 1 0 0 1 1 1 0 0 1 1 1 1 1 1 0 0 1 1 1 1 1 1 0 1\n",
      " 0 1 1 1 1 1 1 1 0 1 1 0 1 1 1 1 1 0 1 1 1 1 1 1 1 1 1 1 1 1 1 1 1 0 0 0 1\n",
      " 1 1 0 1 1 1 1 1 1 1 0 1 1 1 1 1 1 1 1 0 1 1 1 1 1 1 1 1 1 1 1 1 1 1 1 1 0\n",
      " 1 1 1 1 1 1 1 1 1 1 1 1 0 1 1 1 0 1 1 1 1 1 1 1 1 1 1 1 1 1 1 1 1 1 1 1 0\n",
      " 1 1 1 0 1 1 1 1 1 1 1 1 0 1 1 1 1 1 1 1 1 1 1 1 1 1 1 1 1 1 1 1 1 1 1 1 1\n",
      " 1 1 1 1 1 1 1 1 1 1 1 1 0 1 0 1 0 1 1 1 1 1 1 1 1 1 1 1 1 1 1 1 0 1 1 1 1\n",
      " 1 0 1 1 1 1 1 1 1 1 1 1 1 1 1 1 1 1 1 1 1 1 1 1 1 1 1 1 1 1 1 1 1 1 1 1 1\n",
      " 1 1 1 1 1 1 1 1 1 1 1 1 1 1 1 1 1 1 1 1 1 1 1 1 1 1 1 1 1 1 1 1 1 1 1 1 1\n",
      " 1 1 1]\n"
     ]
    }
   ],
   "source": [
    "#Testing the model\n",
    "y_pred = mlp.predict(x_test)\n",
    "print('Prediction:', y_pred)"
   ]
  },
  {
   "cell_type": "code",
   "execution_count": 41,
   "id": "6368d5f8",
   "metadata": {},
   "outputs": [
    {
     "name": "stdout",
     "output_type": "stream",
     "text": [
      "Our Accuracy is 0.655\n"
     ]
    }
   ],
   "source": [
    "#Accuracy of the model\n",
    "print('Our Accuracy is %.3f' % mlp.score(x_test, y_test))"
   ]
  },
  {
   "cell_type": "code",
   "execution_count": 42,
   "id": "efac0be1",
   "metadata": {},
   "outputs": [
    {
     "name": "stdout",
     "output_type": "stream",
     "text": [
      "Number of mislabeled points out of a total 447 points : 154\n"
     ]
    }
   ],
   "source": [
    "#number of mislabeled points\n",
    "print('Number of mislabeled points out of a total %d points : %d'\n",
    "% (x_test.shape[0], (y_test != mlp.predict(x_test)).sum()))"
   ]
  },
  {
   "cell_type": "code",
   "execution_count": 43,
   "id": "36c10f88",
   "metadata": {},
   "outputs": [
    {
     "data": {
      "text/plain": [
       "[<matplotlib.lines.Line2D at 0x7fa0e5eaabe0>]"
      ]
     },
     "execution_count": 43,
     "metadata": {},
     "output_type": "execute_result"
    },
    {
     "data": {
      "image/png": "[encoded data removed]",
      "text/plain": [
       "<Figure size 432x288 with 1 Axes>"
      ]
     },
     "metadata": {
      "needs_background": "light"
     },
     "output_type": "display_data"
    }
   ],
   "source": [
    "#visualizing datasets\n",
    "fig1, ax1= plt.subplots()\n",
    "ax1.scatter(x_train, y_train, color='blue')\n",
    "ax1.set_xlabel('X')\n",
    "ax1.set_ylabel('Y')\n",
    "ax1.plot(x_test, mlp.predict_proba(x_test)[:,1], color='red')"
   ]
  },
  {
   "cell_type": "code",
   "execution_count": 44,
   "id": "219a3b86",
   "metadata": {},
   "outputs": [],
   "source": [
    "#evaluating the model performance\n",
    "conf = metrics.confusion_matrix(y_test, y_pred)"
   ]
  },
  {
   "cell_type": "code",
   "execution_count": 45,
   "id": "f1261cda",
   "metadata": {},
   "outputs": [
    {
     "data": {
      "text/plain": [
       "<AxesSubplot:>"
      ]
     },
     "execution_count": 45,
     "metadata": {},
     "output_type": "execute_result"
    },
    {
     "data": {
      "image/png": "[encoded data removed]",
      "text/plain": [
       "<Figure size 1080x432 with 2 Axes>"
      ]
     },
     "metadata": {
      "needs_background": "light"
     },
     "output_type": "display_data"
    }
   ],
   "source": [
    "#confusion matrix visualization\n",
    "ylabel = [\"Actual [>=5yrs]\",\"Actual [<=5yrs]\"]\n",
    "xlabel = [\"Pred [>=5yrs]\",\"Pred [<=5yrs]\"]\n",
    "#sns.set(font_scale = 1.5)\n",
    "plt.figure(figsize=(15,6))\n",
    "sns.heatmap(conf, annot=True, xticklabels = xlabel, yticklabels = ylabel, linecolor='white', linewidths=1)"
   ]
  },
  {
   "cell_type": "code",
   "execution_count": 46,
   "id": "9075f6f7",
   "metadata": {},
   "outputs": [
    {
     "name": "stdout",
     "output_type": "stream",
     "text": [
      "              precision    recall  f1-score   support\n",
      "\n",
      "           0       0.75      0.20      0.32       178\n",
      "           1       0.64      0.96      0.77       269\n",
      "\n",
      "    accuracy                           0.66       447\n",
      "   macro avg       0.70      0.58      0.54       447\n",
      "weighted avg       0.69      0.66      0.59       447\n",
      "\n"
     ]
    }
   ],
   "source": [
    "#evaluating model performance using classification report\n",
    "print(classification_report(y_test,y_pred))"
   ]
  },
  {
   "cell_type": "code",
   "execution_count": 47,
   "id": "49421cb0",
   "metadata": {},
   "outputs": [],
   "source": [
    "#defining input and output\n",
    "x = df.iloc[:, [1, 2, 3]].values #input\n",
    "y = df.iloc[:, -1].values #output"
   ]
  },
  {
   "cell_type": "code",
   "execution_count": 48,
   "id": "753ed7cc",
   "metadata": {},
   "outputs": [
    {
     "data": {
      "text/plain": [
       "array([[36. , 27.4,  7.4],\n",
       "       [35. , 26.9,  7.2],\n",
       "       [74. , 15.3,  5.2],\n",
       "       ...,\n",
       "       [43. , 12.1,  5.4],\n",
       "       [52. , 12. ,  4.5],\n",
       "       [47. , 11.7,  4.4]])"
      ]
     },
     "execution_count": 48,
     "metadata": {},
     "output_type": "execute_result"
    }
   ],
   "source": [
    "x"
   ]
  },
  {
   "cell_type": "code",
   "execution_count": 49,
   "id": "42601254",
   "metadata": {},
   "outputs": [
    {
     "data": {
      "text/plain": [
       "(1340, 3)"
      ]
     },
     "execution_count": 49,
     "metadata": {},
     "output_type": "execute_result"
    }
   ],
   "source": [
    "x.shape"
   ]
  },
  {
   "cell_type": "code",
   "execution_count": 50,
   "id": "abe209b7",
   "metadata": {},
   "outputs": [
    {
     "data": {
      "text/plain": [
       "array([0, 0, 0, ..., 0, 1, 1])"
      ]
     },
     "execution_count": 50,
     "metadata": {},
     "output_type": "execute_result"
    }
   ],
   "source": [
    "y"
   ]
  },
  {
   "cell_type": "code",
   "execution_count": 51,
   "id": "bc53489a",
   "metadata": {},
   "outputs": [],
   "source": [
    "#training and testing\n",
    "x_train, x_test, y_train, y_test = train_test_split(x, y, test_size= 1/3, \n",
    "random_state=0)"
   ]
  },
  {
   "cell_type": "code",
   "execution_count": 52,
   "id": "487700d5",
   "metadata": {},
   "outputs": [
    {
     "data": {
      "text/plain": [
       "LogisticRegression(max_iter=1000)"
      ]
     },
     "execution_count": 52,
     "metadata": {},
     "output_type": "execute_result"
    }
   ],
   "source": [
    "#Using logistic regression\n",
    "logre = LogisticRegression(max_iter=1000)\n",
    "logre.fit(x_train, y_train)"
   ]
  },
  {
   "cell_type": "code",
   "execution_count": 53,
   "id": "725f0815",
   "metadata": {},
   "outputs": [
    {
     "name": "stdout",
     "output_type": "stream",
     "text": [
      "Prediction: [0 0 1 0 1 0 1 1 1 1 1 1 1 1 1 1 0 1 1 0 1 1 0 1 1 0 0 0 1 0 1 1 0 0 1 1 1\n",
      " 1 0 1 1 1 1 1 1 1 1 1 1 1 1 1 0 1 1 1 1 1 0 0 1 1 0 1 1 1 0 0 1 1 0 1 1 1\n",
      " 1 1 1 0 1 0 1 1 1 1 1 0 1 1 1 0 1 1 0 1 1 1 0 1 1 0 1 1 1 0 1 1 1 1 1 0 1\n",
      " 1 1 0 0 1 1 1 0 0 1 1 1 0 0 1 1 0 1 1 1 1 1 0 1 1 1 0 0 1 1 1 1 0 0 0 0 1\n",
      " 0 1 0 0 0 1 1 1 1 0 1 1 0 1 0 0 1 1 1 0 0 0 1 1 1 1 1 0 0 1 1 1 1 1 1 0 1\n",
      " 0 1 1 1 1 1 1 1 0 1 1 0 1 1 1 1 1 0 1 1 1 1 1 0 1 1 1 1 0 0 1 1 1 0 0 0 1\n",
      " 1 1 0 1 1 1 0 1 1 1 0 1 1 1 1 1 1 1 1 0 0 1 0 1 1 1 1 1 0 1 1 1 0 0 1 1 0\n",
      " 1 1 1 0 0 1 1 0 1 1 1 1 0 1 1 1 0 1 1 1 1 1 1 1 0 0 1 1 1 1 1 1 1 0 1 1 0\n",
      " 0 1 1 0 1 1 1 1 1 1 1 1 0 1 0 1 1 1 1 1 1 0 1 1 1 0 1 0 1 1 1 1 1 1 1 1 1\n",
      " 1 1 1 1 0 1 1 1 1 0 1 1 0 1 0 1 0 1 1 1 1 0 1 1 1 1 1 1 1 1 1 1 0 1 1 1 1\n",
      " 1 0 0 0 1 1 1 1 1 1 1 1 1 1 0 1 1 1 1 0 0 1 0 1 1 1 0 0 1 1 1 0 1 1 0 0 1\n",
      " 1 1 1 1 1 1 1 0 1 1 1 1 1 1 0 1 1 0 0 1 0 1 1 1 0 1 1 1 1 0 1 1 1 0 1 1 1\n",
      " 1 0 1]\n"
     ]
    }
   ],
   "source": [
    "y_pred = logre.predict(x_test)\n",
    "print('Prediction:', y_pred)"
   ]
  },
  {
   "cell_type": "code",
   "execution_count": 54,
   "id": "387c8c7a",
   "metadata": {},
   "outputs": [
    {
     "name": "stdout",
     "output_type": "stream",
     "text": [
      "Our Accuracy is 0.69\n"
     ]
    }
   ],
   "source": [
    "# accuracy of the model\n",
    "print('Our Accuracy is %.2f' % logre.score(x_test, y_test))"
   ]
  },
  {
   "cell_type": "code",
   "execution_count": 55,
   "id": "8faf9fc8",
   "metadata": {},
   "outputs": [
    {
     "name": "stdout",
     "output_type": "stream",
     "text": [
      "Number of mislabeled points out of a total 447 points : 138\n"
     ]
    }
   ],
   "source": [
    "#checking the number of mislabeled points\n",
    "print('Number of mislabeled points out of a total %d points : %d'\n",
    "% (x_test.shape[0], (y_test != logre.predict(x_test)).sum()))"
   ]
  },
  {
   "cell_type": "code",
   "execution_count": 56,
   "id": "6cf69cf7",
   "metadata": {},
   "outputs": [],
   "source": [
    "#evaluating the model performance\n",
    "conf= confusion_matrix(y_test, y_pred)"
   ]
  },
  {
   "cell_type": "code",
   "execution_count": 57,
   "id": "dc8168d7",
   "metadata": {},
   "outputs": [
    {
     "data": {
      "text/plain": [
       "array([[ 81,  97],\n",
       "       [ 41, 228]])"
      ]
     },
     "execution_count": 57,
     "metadata": {},
     "output_type": "execute_result"
    }
   ],
   "source": [
    "conf #confusion matrix"
   ]
  },
  {
   "cell_type": "code",
   "execution_count": 58,
   "id": "0b1752c4",
   "metadata": {},
   "outputs": [
    {
     "data": {
      "text/plain": [
       "<AxesSubplot:>"
      ]
     },
     "execution_count": 58,
     "metadata": {},
     "output_type": "execute_result"
    },
    {
     "data": {
      "image/png": "[encoded data removed]",
      "text/plain": [
       "<Figure size 1080x432 with 2 Axes>"
      ]
     },
     "metadata": {
      "needs_background": "light"
     },
     "output_type": "display_data"
    }
   ],
   "source": [
    "#confusion matrix visualization\n",
    "ylabel = [\"Actual [>=5yrs]\",\"Actual [<=5yrs]\"]\n",
    "xlabel = [\"Pred [>=5yrs]\",\"Pred [<=5yrs]\"]\n",
    "#sns.set(font_scale = 1.5)\n",
    "plt.figure(figsize=(15,6))\n",
    "sns.heatmap(conf, annot=True, xticklabels = xlabel, yticklabels = ylabel, linecolor='black', linewidths=1)"
   ]
  },
  {
   "cell_type": "code",
   "execution_count": 59,
   "id": "77730d05",
   "metadata": {},
   "outputs": [
    {
     "name": "stdout",
     "output_type": "stream",
     "text": [
      "              precision    recall  f1-score   support\n",
      "\n",
      "           0       0.66      0.46      0.54       178\n",
      "           1       0.70      0.85      0.77       269\n",
      "\n",
      "    accuracy                           0.69       447\n",
      "   macro avg       0.68      0.65      0.65       447\n",
      "weighted avg       0.69      0.69      0.68       447\n",
      "\n"
     ]
    }
   ],
   "source": [
    "#evaluating model performance using classification report\n",
    "print(classification_report(y_test,y_pred))"
   ]
  },
  {
   "cell_type": "code",
   "execution_count": 60,
   "id": "28c7f6f4",
   "metadata": {},
   "outputs": [
    {
     "data": {
      "text/plain": [
       "GaussianNB()"
      ]
     },
     "execution_count": 60,
     "metadata": {},
     "output_type": "execute_result"
    }
   ],
   "source": [
    "#Training the data set with Guassian Naive Bayes Model\n",
    "Gnb = GaussianNB()\n",
    "Gnb.fit(x_train, y_train)"
   ]
  },
  {
   "cell_type": "code",
   "execution_count": 61,
   "id": "8a7bce57",
   "metadata": {},
   "outputs": [
    {
     "name": "stdout",
     "output_type": "stream",
     "text": [
      "Prediction: [0 0 1 0 1 0 1 1 0 1 1 1 1 1 1 1 0 1 1 0 1 1 0 1 1 0 0 0 1 1 1 1 0 0 1 1 1\n",
      " 1 0 1 1 1 1 0 1 1 1 1 1 0 1 1 0 1 1 1 0 1 0 0 0 1 0 1 1 1 0 0 0 1 0 1 0 0\n",
      " 1 1 0 0 1 0 0 1 0 1 1 0 1 0 0 0 0 1 0 1 0 1 0 1 1 0 1 0 1 0 1 1 1 0 1 0 1\n",
      " 1 1 0 0 1 1 1 0 0 1 1 0 1 0 0 0 0 1 1 0 1 1 0 1 0 1 1 0 1 0 1 0 0 0 0 0 1\n",
      " 0 1 0 0 0 1 0 1 1 0 1 1 0 1 0 0 0 1 1 0 0 0 1 1 1 1 1 0 0 0 1 1 1 0 0 0 1\n",
      " 0 0 1 1 0 1 1 1 0 1 1 0 1 1 1 1 0 0 1 0 0 0 0 0 0 1 1 0 0 0 0 1 1 0 0 0 1\n",
      " 1 1 0 0 1 1 0 0 1 0 0 1 1 0 1 1 1 0 1 0 0 1 0 1 1 1 0 1 0 1 1 1 0 0 1 1 0\n",
      " 1 1 1 0 0 1 1 0 1 1 0 1 0 1 1 1 0 1 0 1 0 0 1 0 0 0 1 0 1 1 1 0 1 0 1 1 0\n",
      " 0 1 1 0 1 1 1 1 1 1 1 1 0 1 0 1 1 1 0 1 0 0 1 1 0 0 1 0 1 1 1 1 1 1 1 1 1\n",
      " 1 1 1 0 0 1 1 1 0 0 1 1 0 1 0 1 0 1 1 0 1 0 1 1 1 1 0 1 0 1 1 1 0 0 1 1 1\n",
      " 1 0 0 0 1 1 1 1 0 0 0 1 1 0 0 1 1 0 1 0 0 0 0 1 0 0 0 0 1 1 1 0 1 1 0 0 1\n",
      " 1 1 1 1 1 1 0 0 0 0 1 0 1 1 0 0 1 0 0 1 0 1 0 1 0 1 1 1 0 0 1 1 1 0 1 0 1\n",
      " 1 0 1]\n"
     ]
    }
   ],
   "source": [
    "y_pred =Gnb.predict(x_test)\n",
    "print('Prediction:', y_pred)"
   ]
  },
  {
   "cell_type": "code",
   "execution_count": 62,
   "id": "d778fa89",
   "metadata": {},
   "outputs": [
    {
     "name": "stdout",
     "output_type": "stream",
     "text": [
      "Number of mislabeled points out of a total 447 points : 134\n"
     ]
    }
   ],
   "source": [
    "#number of mislabeled points\n",
    "print('Number of mislabeled points out of a total %d points : %d'\n",
    "% (x_test.shape[0], (y_test != Gnb.predict(x_test)).sum()))"
   ]
  },
  {
   "cell_type": "code",
   "execution_count": 63,
   "id": "e614bb97",
   "metadata": {},
   "outputs": [
    {
     "name": "stdout",
     "output_type": "stream",
     "text": [
      "Our Accuracy is 0.70\n"
     ]
    }
   ],
   "source": [
    "#Accuracy of the model\n",
    "print('Our Accuracy is %.2f' % Gnb.score(x_test, y_test))\n"
   ]
  },
  {
   "cell_type": "code",
   "execution_count": 64,
   "id": "4e7e2e27",
   "metadata": {},
   "outputs": [
    {
     "data": {
      "text/plain": [
       "(447,)"
      ]
     },
     "execution_count": 64,
     "metadata": {},
     "output_type": "execute_result"
    }
   ],
   "source": [
    "y_test.shape"
   ]
  },
  {
   "cell_type": "code",
   "execution_count": 65,
   "id": "870ed49b",
   "metadata": {},
   "outputs": [],
   "source": [
    "#evaluating the model performance using confusion matrix\n",
    "conf1  = metrics.confusion_matrix(y_test, y_pred)"
   ]
  },
  {
   "cell_type": "code",
   "execution_count": 66,
   "id": "565d620d",
   "metadata": {},
   "outputs": [
    {
     "data": {
      "text/plain": [
       "array([[120,  58],\n",
       "       [ 76, 193]])"
      ]
     },
     "execution_count": 66,
     "metadata": {},
     "output_type": "execute_result"
    }
   ],
   "source": [
    "conf1"
   ]
  },
  {
   "cell_type": "code",
   "execution_count": 67,
   "id": "cb2825a6",
   "metadata": {},
   "outputs": [
    {
     "data": {
      "text/plain": [
       "<AxesSubplot:>"
      ]
     },
     "execution_count": 67,
     "metadata": {},
     "output_type": "execute_result"
    },
    {
     "data": {
      "image/png": "[encoded data removed]",
      "text/plain": [
       "<Figure size 1080x432 with 2 Axes>"
      ]
     },
     "metadata": {
      "needs_background": "light"
     },
     "output_type": "display_data"
    }
   ],
   "source": [
    "#Visualizing the confusion matrix based on actual and predicted\n",
    "ylabel = [\"Actual [>=5yrs]\",\"Actual [<=5yrs]\"]\n",
    "xlabel = [\"Pred [>=5yrs]\",\"Pred [<=5yrs]\"]\n",
    "#sns.set(font_scale = 1.5)\n",
    "plt.figure(figsize=(15,6))\n",
    "sns.heatmap(conf1, annot=True, xticklabels = xlabel, yticklabels = ylabel, linecolor='black', linewidths=1)"
   ]
  },
  {
   "cell_type": "code",
   "execution_count": 68,
   "id": "f386cee7",
   "metadata": {},
   "outputs": [
    {
     "name": "stdout",
     "output_type": "stream",
     "text": [
      "              precision    recall  f1-score   support\n",
      "\n",
      "           0       0.61      0.67      0.64       178\n",
      "           1       0.77      0.72      0.74       269\n",
      "\n",
      "    accuracy                           0.70       447\n",
      "   macro avg       0.69      0.70      0.69       447\n",
      "weighted avg       0.71      0.70      0.70       447\n",
      "\n"
     ]
    }
   ],
   "source": [
    "#evaluating the model performance using the classification report\n",
    "print(classification_report(y_test,y_pred))"
   ]
  },
  {
   "cell_type": "code",
   "execution_count": 69,
   "id": "d0a9ef51",
   "metadata": {},
   "outputs": [
    {
     "data": {
      "text/plain": [
       "MLPClassifier(activation='logistic', hidden_layer_sizes=(), max_iter=2000,\n",
       "              random_state=0)"
      ]
     },
     "execution_count": 69,
     "metadata": {},
     "output_type": "execute_result"
    }
   ],
   "source": [
    "#Neural Network\n",
    "#Training the data set with MLP classifier\n",
    "mlp = MLPClassifier(hidden_layer_sizes=(), activation=\"logistic\", random_state=0, max_iter = 2000)\n",
    "mlp.fit(x_train, y_train)"
   ]
  },
  {
   "cell_type": "code",
   "execution_count": 70,
   "id": "94a4c4ff",
   "metadata": {},
   "outputs": [
    {
     "name": "stdout",
     "output_type": "stream",
     "text": [
      "Prediction: [1 0 1 1 1 0 1 1 1 1 1 1 1 1 1 1 0 1 1 0 1 1 0 1 1 1 0 0 1 1 1 1 1 0 1 1 1\n",
      " 1 0 1 1 1 1 1 1 1 1 1 1 1 1 1 1 1 1 1 1 1 0 0 1 1 1 1 1 1 1 0 1 1 1 1 1 1\n",
      " 1 1 1 0 1 1 1 1 1 1 1 0 1 1 1 0 1 1 1 1 1 1 1 1 1 0 1 1 1 0 1 1 1 1 1 0 1\n",
      " 1 1 1 0 1 1 1 0 1 1 1 1 0 0 1 1 0 1 1 1 1 1 0 1 1 1 0 1 1 1 1 1 1 1 0 0 1\n",
      " 0 1 0 0 0 1 1 1 1 1 1 1 0 1 0 0 1 1 1 0 0 1 1 1 1 1 1 1 0 1 1 1 1 1 1 0 1\n",
      " 1 1 1 1 1 1 1 1 0 1 1 0 1 1 1 1 1 0 1 1 1 1 1 1 1 1 1 1 0 1 1 1 1 0 0 0 1\n",
      " 1 1 0 1 1 1 0 1 1 1 0 1 1 1 1 1 1 1 1 0 0 1 1 1 1 1 1 1 1 1 1 1 0 1 1 1 0\n",
      " 1 1 1 1 1 1 1 1 1 1 1 1 0 1 1 1 0 1 1 1 1 1 1 1 0 1 1 1 1 1 1 1 1 1 1 1 0\n",
      " 0 1 1 0 1 1 1 1 1 1 1 1 0 1 0 1 1 1 1 1 1 1 1 1 1 1 1 1 1 1 1 1 1 1 1 1 1\n",
      " 1 1 1 1 1 1 1 1 1 1 1 1 0 1 0 1 1 1 1 1 1 0 1 1 1 1 1 1 1 1 1 1 0 1 1 1 1\n",
      " 1 0 1 0 1 1 1 1 1 1 1 1 1 1 1 1 1 1 1 0 1 1 1 1 1 1 0 1 1 1 1 1 1 1 0 1 1\n",
      " 1 1 1 1 1 1 1 0 1 1 1 1 1 1 1 1 1 0 0 1 0 1 1 1 1 1 1 1 1 0 1 1 1 1 1 1 1\n",
      " 1 0 1]\n"
     ]
    }
   ],
   "source": [
    "#Testing the model\n",
    "y_pred = mlp.predict(x_test)\n",
    "print('Prediction:', y_pred)"
   ]
  },
  {
   "cell_type": "code",
   "execution_count": 71,
   "id": "c67534af",
   "metadata": {},
   "outputs": [
    {
     "name": "stdout",
     "output_type": "stream",
     "text": [
      "Our Accuracy is 0.66\n"
     ]
    }
   ],
   "source": [
    "#Accuracy of the model\n",
    "print('Our Accuracy is %.2f' % mlp.score(x_test, y_test))"
   ]
  },
  {
   "cell_type": "code",
   "execution_count": 72,
   "id": "4aa59141",
   "metadata": {},
   "outputs": [
    {
     "name": "stdout",
     "output_type": "stream",
     "text": [
      "Number of mislabeled points out of a total 447 points : 153\n"
     ]
    }
   ],
   "source": [
    "#number of mislabeled points\n",
    "print('Number of mislabeled points out of a total %d points : %d'\n",
    "% (x_test.shape[0], (y_test != mlp.predict(x_test)).sum()))"
   ]
  },
  {
   "cell_type": "code",
   "execution_count": 73,
   "id": "20685968",
   "metadata": {},
   "outputs": [],
   "source": [
    "#confusion matrix\n",
    "conf2 = metrics.confusion_matrix(y_test, y_pred)"
   ]
  },
  {
   "cell_type": "code",
   "execution_count": 74,
   "id": "410f04d6",
   "metadata": {},
   "outputs": [
    {
     "data": {
      "text/plain": [
       "array([[ 50, 128],\n",
       "       [ 25, 244]])"
      ]
     },
     "execution_count": 74,
     "metadata": {},
     "output_type": "execute_result"
    }
   ],
   "source": [
    "conf2 #confusion matrix"
   ]
  },
  {
   "cell_type": "code",
   "execution_count": 75,
   "id": "57007598",
   "metadata": {},
   "outputs": [
    {
     "data": {
      "text/plain": [
       "<AxesSubplot:>"
      ]
     },
     "execution_count": 75,
     "metadata": {},
     "output_type": "execute_result"
    },
    {
     "data": {
      "image/png": "[encoded data removed]",
      "text/plain": [
       "<Figure size 1080x432 with 2 Axes>"
      ]
     },
     "metadata": {
      "needs_background": "light"
     },
     "output_type": "display_data"
    }
   ],
   "source": [
    "#visualizing confusion matrix\n",
    "ylabel = [\"Actual [>=5yrs]\",\"Actual [<=5yrs]\"]\n",
    "xlabel = [\"Pred [>=5yrs]\",\"Pred [<=5yrs]\"]\n",
    "#sns.set(font_scale = 1.5)\n",
    "plt.figure(figsize=(15,6))\n",
    "sns.heatmap(conf2, annot=True, xticklabels = xlabel, yticklabels = ylabel, linecolor='black', linewidths=1)"
   ]
  },
  {
   "cell_type": "code",
   "execution_count": 76,
   "id": "bfb8e8bd",
   "metadata": {},
   "outputs": [
    {
     "name": "stdout",
     "output_type": "stream",
     "text": [
      "              precision    recall  f1-score   support\n",
      "\n",
      "           0       0.67      0.28      0.40       178\n",
      "           1       0.66      0.91      0.76       269\n",
      "\n",
      "    accuracy                           0.66       447\n",
      "   macro avg       0.66      0.59      0.58       447\n",
      "weighted avg       0.66      0.66      0.62       447\n",
      "\n"
     ]
    }
   ],
   "source": [
    "#classification report\n",
    "print(classification_report(y_test,y_pred))"
   ]
  },
  {
   "cell_type": "code",
   "execution_count": 77,
   "id": "bf863ce8",
   "metadata": {},
   "outputs": [],
   "source": [
    "#defining input and output\n",
    "x1 = df.iloc[:, [1, 2, 3, 4, 5, 6]].values #input\n",
    "y1 = df.iloc[:, -1].values #output"
   ]
  },
  {
   "cell_type": "code",
   "execution_count": 78,
   "id": "1d04657a",
   "metadata": {},
   "outputs": [
    {
     "data": {
      "text/plain": [
       "array([[36. , 27.4,  7.4,  2.6,  7.6, 34.7],\n",
       "       [35. , 26.9,  7.2,  2. ,  6.7, 29.6],\n",
       "       [74. , 15.3,  5.2,  2. ,  4.7, 42.2],\n",
       "       ...,\n",
       "       [43. , 12.1,  5.4,  2.2,  3.9, 55. ],\n",
       "       [52. , 12. ,  4.5,  1.7,  3.8, 43.9],\n",
       "       [47. , 11.7,  4.4,  1.6,  4.4, 36.9]])"
      ]
     },
     "execution_count": 78,
     "metadata": {},
     "output_type": "execute_result"
    }
   ],
   "source": [
    "x1.shape\n",
    "x1"
   ]
  },
  {
   "cell_type": "code",
   "execution_count": 79,
   "id": "bb4f6898",
   "metadata": {},
   "outputs": [],
   "source": [
    "# training and test sets:\n",
    "x1_train, x1_test, y1_train, y1_test = train_test_split(x1, y1, test_size= 1/3, \n",
    "random_state=0)"
   ]
  },
  {
   "cell_type": "code",
   "execution_count": 80,
   "id": "0e668593",
   "metadata": {},
   "outputs": [
    {
     "data": {
      "text/plain": [
       "LogisticRegression(max_iter=1000)"
      ]
     },
     "execution_count": 80,
     "metadata": {},
     "output_type": "execute_result"
    }
   ],
   "source": [
    "#Logistic Regression\n",
    "logre = LogisticRegression(max_iter=1000)\n",
    "logre.fit(x1_train, y1_train)"
   ]
  },
  {
   "cell_type": "code",
   "execution_count": 81,
   "id": "1f70726b",
   "metadata": {},
   "outputs": [
    {
     "name": "stdout",
     "output_type": "stream",
     "text": [
      "Prediction: [0 0 1 0 1 0 1 1 1 1 1 1 1 1 1 1 0 1 1 0 1 1 0 1 1 1 0 0 1 0 1 1 0 0 1 1 1\n",
      " 1 0 1 1 1 1 1 1 1 1 1 1 1 1 1 0 1 1 1 1 1 0 0 1 1 0 1 1 1 0 0 1 1 1 1 1 1\n",
      " 1 1 1 0 1 0 1 1 1 1 1 0 1 1 1 0 0 1 0 1 1 1 0 1 1 0 1 1 1 0 1 1 1 1 1 0 1\n",
      " 1 1 0 0 1 1 1 0 1 1 1 1 0 0 1 0 0 1 1 1 1 1 0 1 1 1 0 0 1 1 1 1 0 0 0 0 1\n",
      " 0 1 0 0 0 1 1 1 1 0 1 1 0 1 0 0 1 1 1 0 0 0 1 1 1 1 1 0 0 1 1 1 1 1 1 0 1\n",
      " 0 1 1 1 1 1 1 1 0 1 1 0 1 1 1 1 1 0 1 1 1 1 0 0 1 1 1 1 0 0 1 1 1 0 0 0 1\n",
      " 1 1 0 1 1 1 0 1 1 0 0 1 1 1 1 1 1 1 1 0 0 1 0 1 1 1 1 1 0 1 1 1 0 0 1 1 0\n",
      " 1 1 1 0 0 1 1 0 1 1 1 1 0 1 1 1 0 1 1 1 1 1 1 1 0 0 1 1 1 1 1 1 1 0 1 1 0\n",
      " 0 1 1 0 1 1 1 1 1 1 1 1 0 1 1 1 1 1 1 1 0 0 1 1 1 1 1 0 1 1 1 1 1 1 1 1 1\n",
      " 1 1 1 1 0 1 1 1 1 0 1 1 0 1 0 1 0 1 1 1 1 0 1 1 1 1 1 1 1 1 1 1 0 1 1 1 1\n",
      " 1 0 0 0 1 1 1 1 1 1 1 1 1 1 0 1 1 1 1 0 0 1 0 1 1 1 0 0 1 1 1 0 1 1 0 1 1\n",
      " 1 1 1 1 1 1 1 0 1 1 1 0 1 1 1 1 1 0 0 1 0 1 1 1 0 1 1 1 1 0 1 1 1 0 1 1 1\n",
      " 1 0 1]\n"
     ]
    }
   ],
   "source": [
    "#predicting the dataset\n",
    "y1_pred = logre.predict(x1_test)\n",
    "print('Prediction:', y1_pred)"
   ]
  },
  {
   "cell_type": "code",
   "execution_count": 82,
   "id": "c8afae3d",
   "metadata": {},
   "outputs": [
    {
     "name": "stdout",
     "output_type": "stream",
     "text": [
      "Our Accuracy is 0.702\n"
     ]
    }
   ],
   "source": [
    "#checking the accuracy of the model\n",
    "print('Our Accuracy is %.3f' % logre.score(x1_test, y1_test))"
   ]
  },
  {
   "cell_type": "code",
   "execution_count": 83,
   "id": "8dc9df8d",
   "metadata": {},
   "outputs": [
    {
     "name": "stdout",
     "output_type": "stream",
     "text": [
      "Number of mislabeled points out of a total 447 points : 133\n"
     ]
    }
   ],
   "source": [
    "#checking the number of mislabeled points\n",
    "print('Number of mislabeled points out of a total %d points : %d'\n",
    "% (x1_test.shape[0], (y1_test != logre.predict(x1_test)).sum()))"
   ]
  },
  {
   "cell_type": "code",
   "execution_count": 84,
   "id": "4c953be5",
   "metadata": {},
   "outputs": [],
   "source": [
    "#evaluating the model performance\n",
    "conf3 = metrics.confusion_matrix(y1_test, y1_pred)"
   ]
  },
  {
   "cell_type": "code",
   "execution_count": 85,
   "id": "0114fe5d",
   "metadata": {},
   "outputs": [
    {
     "data": {
      "text/plain": [
       "array([[ 83,  95],\n",
       "       [ 38, 231]])"
      ]
     },
     "execution_count": 85,
     "metadata": {},
     "output_type": "execute_result"
    }
   ],
   "source": [
    "conf3"
   ]
  },
  {
   "cell_type": "code",
   "execution_count": 86,
   "id": "c727af54",
   "metadata": {},
   "outputs": [
    {
     "data": {
      "text/plain": [
       "<AxesSubplot:>"
      ]
     },
     "execution_count": 86,
     "metadata": {},
     "output_type": "execute_result"
    },
    {
     "data": {
      "image/png": "[encoded data removed]",
      "text/plain": [
       "<Figure size 720x360 with 2 Axes>"
      ]
     },
     "metadata": {
      "needs_background": "light"
     },
     "output_type": "display_data"
    }
   ],
   "source": [
    "#visualizing confusion matrix\n",
    "ylabel = [\"Actual [>=5yrs]\",\"Actual [<=5yrs]\"]\n",
    "xlabel = [\"Pred [>=5yrs]\",\"Pred [<=5yrs]\"]\n",
    "#sns.set(font_scale = 1.5)\n",
    "plt.figure(figsize=(10,5))\n",
    "sns.heatmap(conf3, annot=True, xticklabels = xlabel, yticklabels = ylabel, linecolor='black', linewidths=1)"
   ]
  },
  {
   "cell_type": "code",
   "execution_count": 87,
   "id": "bb6a2eee",
   "metadata": {},
   "outputs": [
    {
     "name": "stdout",
     "output_type": "stream",
     "text": [
      "              precision    recall  f1-score   support\n",
      "\n",
      "           0       0.69      0.47      0.56       178\n",
      "           1       0.71      0.86      0.78       269\n",
      "\n",
      "    accuracy                           0.70       447\n",
      "   macro avg       0.70      0.66      0.67       447\n",
      "weighted avg       0.70      0.70      0.69       447\n",
      "\n"
     ]
    }
   ],
   "source": [
    "#evaluating model performance using classification report\n",
    "print(classification_report(y1_test,y1_pred))"
   ]
  },
  {
   "cell_type": "code",
   "execution_count": 88,
   "id": "3b9356f9",
   "metadata": {},
   "outputs": [
    {
     "data": {
      "text/plain": [
       "GaussianNB()"
      ]
     },
     "execution_count": 88,
     "metadata": {},
     "output_type": "execute_result"
    }
   ],
   "source": [
    "#Training the data set with Guassian Naive Bayes Model\n",
    "Gnb = GaussianNB()\n",
    "Gnb.fit(x1_train, y1_train)"
   ]
  },
  {
   "cell_type": "code",
   "execution_count": 89,
   "id": "ed89f8ea",
   "metadata": {},
   "outputs": [
    {
     "name": "stdout",
     "output_type": "stream",
     "text": [
      "Prediction: [0 0 1 0 1 0 1 1 1 1 1 1 1 1 1 1 0 1 1 0 1 1 0 1 1 1 0 0 1 0 1 1 0 0 1 1 1\n",
      " 1 0 1 1 1 1 1 1 1 1 1 1 1 1 1 0 1 1 1 1 1 0 0 1 1 0 1 1 1 0 0 1 1 1 1 1 1\n",
      " 1 1 1 0 1 0 1 1 1 1 1 0 1 1 1 0 0 1 0 1 1 1 0 1 1 0 1 1 1 0 1 1 1 1 1 0 1\n",
      " 1 1 0 0 1 1 1 0 1 1 1 1 0 0 1 0 0 1 1 1 1 1 0 1 1 1 0 0 1 1 1 1 0 0 0 0 1\n",
      " 0 1 0 0 0 1 1 1 1 0 1 1 0 1 0 0 1 1 1 0 0 0 1 1 1 1 1 0 0 1 1 1 1 1 1 0 1\n",
      " 0 1 1 1 1 1 1 1 0 1 1 0 1 1 1 1 1 0 1 1 1 1 0 0 1 1 1 1 0 0 1 1 1 0 0 0 1\n",
      " 1 1 0 1 1 1 0 1 1 0 0 1 1 1 1 1 1 1 1 0 0 1 0 1 1 1 1 1 0 1 1 1 0 0 1 1 0\n",
      " 1 1 1 0 0 1 1 0 1 1 1 1 0 1 1 1 0 1 1 1 1 1 1 1 0 0 1 1 1 1 1 1 1 0 1 1 0\n",
      " 0 1 1 0 1 1 1 1 1 1 1 1 0 1 1 1 1 1 1 1 0 0 1 1 1 1 1 0 1 1 1 1 1 1 1 1 1\n",
      " 1 1 1 1 0 1 1 1 1 0 1 1 0 1 0 1 0 1 1 1 1 0 1 1 1 1 1 1 1 1 1 1 0 1 1 1 1\n",
      " 1 0 0 0 1 1 1 1 1 1 1 1 1 1 0 1 1 1 1 0 0 1 0 1 1 1 0 0 1 1 1 0 1 1 0 1 1\n",
      " 1 1 1 1 1 1 1 0 1 1 1 0 1 1 1 1 1 0 0 1 0 1 1 1 0 1 1 1 1 0 1 1 1 0 1 1 1\n",
      " 1 0 1]\n"
     ]
    }
   ],
   "source": [
    "y_pred = Gnb.predict(x1_test)\n",
    "print('Prediction:', y1_pred)"
   ]
  },
  {
   "cell_type": "code",
   "execution_count": 90,
   "id": "d1832f2a",
   "metadata": {},
   "outputs": [
    {
     "name": "stdout",
     "output_type": "stream",
     "text": [
      "Number of mislabeled points out of a total 447 points : 141\n"
     ]
    }
   ],
   "source": [
    "#checking the number of mislabeled points\n",
    "print('Number of mislabeled points out of a total %d points : %d'\n",
    "% (x_test.shape[0], (y1_test != Gnb.predict(x1_test)).sum()))"
   ]
  },
  {
   "cell_type": "code",
   "execution_count": 91,
   "id": "9f5320c4",
   "metadata": {},
   "outputs": [
    {
     "name": "stdout",
     "output_type": "stream",
     "text": [
      "Our Accuracy is 0.685\n"
     ]
    }
   ],
   "source": [
    "#checking the accuracy of the model\n",
    "print('Our Accuracy is %.3f' % Gnb.score(x1_test, y1_test))"
   ]
  },
  {
   "cell_type": "code",
   "execution_count": 92,
   "id": "d577c77b",
   "metadata": {},
   "outputs": [
    {
     "data": {
      "text/plain": [
       "MLPClassifier(activation='logistic', hidden_layer_sizes=(), max_iter=2000,\n",
       "              random_state=0)"
      ]
     },
     "execution_count": 92,
     "metadata": {},
     "output_type": "execute_result"
    }
   ],
   "source": [
    "#Neural Network\n",
    "#Training the data set with MLP classifier\n",
    "mlp = MLPClassifier(hidden_layer_sizes=(), activation=\"logistic\", random_state=0, max_iter = 2000)\n",
    "mlp.fit(x1_train, y1_train)"
   ]
  },
  {
   "cell_type": "code",
   "execution_count": 93,
   "id": "3fd295de",
   "metadata": {},
   "outputs": [
    {
     "name": "stdout",
     "output_type": "stream",
     "text": [
      "Prediction: [0 0 1 0 1 0 1 1 1 1 1 1 1 1 1 1 0 1 1 0 1 1 1 1 1 1 0 0 1 0 1 1 1 0 1 1 1\n",
      " 1 0 1 1 1 1 1 1 1 1 1 1 1 1 1 0 1 1 1 1 1 0 0 1 1 0 1 1 1 0 0 1 1 0 1 1 1\n",
      " 1 1 1 0 1 0 1 1 0 1 1 0 1 1 1 0 1 1 1 1 1 1 1 1 1 0 1 1 1 0 1 1 1 1 1 0 1\n",
      " 1 1 1 0 1 1 1 0 1 1 1 1 1 0 1 1 0 1 1 1 1 1 0 1 1 1 1 0 1 1 1 1 1 0 0 1 1\n",
      " 0 1 0 0 0 1 1 1 1 0 1 1 0 1 0 0 1 1 1 0 0 1 1 1 1 1 1 0 0 1 1 1 1 1 1 0 1\n",
      " 0 1 1 1 1 1 1 1 0 1 1 0 1 1 1 1 1 0 1 1 1 1 1 1 1 1 1 1 0 1 1 1 1 0 0 0 1\n",
      " 1 1 0 1 1 1 0 1 1 1 0 1 1 1 1 1 1 1 1 0 0 1 0 1 1 1 1 1 1 1 1 1 0 0 1 1 0\n",
      " 1 1 1 1 1 1 1 1 1 1 1 1 0 1 1 1 0 1 1 1 1 1 1 1 1 0 1 1 1 1 1 1 1 1 1 1 0\n",
      " 0 1 1 0 1 1 1 1 1 1 1 1 0 1 0 1 1 1 1 1 1 0 1 1 1 0 1 1 1 1 1 1 1 1 1 1 1\n",
      " 1 1 1 1 0 1 1 1 1 0 1 1 0 1 0 1 0 1 1 1 1 0 1 1 1 1 1 1 1 1 1 1 0 1 1 1 1\n",
      " 1 0 1 0 1 1 1 1 1 1 1 1 1 1 1 1 1 1 1 0 1 1 1 1 1 1 0 1 1 1 1 0 1 1 1 0 1\n",
      " 1 1 1 1 1 1 1 0 1 1 1 1 1 1 0 1 1 0 0 1 0 1 1 1 1 1 1 1 1 1 1 1 1 0 1 1 1\n",
      " 1 0 1]\n"
     ]
    }
   ],
   "source": [
    "#Testing the model\n",
    "y1_pred = mlp.predict(x1_test)\n",
    "print('Prediction:', y1_pred)"
   ]
  },
  {
   "cell_type": "code",
   "execution_count": 94,
   "id": "79c6a5de",
   "metadata": {},
   "outputs": [
    {
     "name": "stdout",
     "output_type": "stream",
     "text": [
      "Our Accuracy is 0.67\n"
     ]
    }
   ],
   "source": [
    "#Accuracy of the model\n",
    "print('Our Accuracy is %.2f' % mlp.score(x1_test, y1_test))"
   ]
  },
  {
   "cell_type": "code",
   "execution_count": 95,
   "id": "41cfc177",
   "metadata": {},
   "outputs": [
    {
     "name": "stdout",
     "output_type": "stream",
     "text": [
      "Number of mislabeled points out of a total 447 points : 148\n"
     ]
    }
   ],
   "source": [
    "#number of mislabeled points\n",
    "print('Number of mislabeled points out of a total %d points : %d'\n",
    "% (x1_test.shape[0], (y1_test != mlp.predict(x1_test)).sum()))"
   ]
  },
  {
   "cell_type": "code",
   "execution_count": 96,
   "id": "edffc331",
   "metadata": {},
   "outputs": [],
   "source": [
    "#confusion matrix\n",
    "conf4 = metrics.confusion_matrix(y1_test, y1_pred)"
   ]
  },
  {
   "cell_type": "code",
   "execution_count": 97,
   "id": "cd8e4deb",
   "metadata": {},
   "outputs": [
    {
     "data": {
      "text/plain": [
       "array([[ 62, 116],\n",
       "       [ 32, 237]])"
      ]
     },
     "execution_count": 97,
     "metadata": {},
     "output_type": "execute_result"
    }
   ],
   "source": [
    "conf4"
   ]
  },
  {
   "cell_type": "code",
   "execution_count": 98,
   "id": "9e644ce4",
   "metadata": {},
   "outputs": [
    {
     "data": {
      "text/plain": [
       "<AxesSubplot:>"
      ]
     },
     "execution_count": 98,
     "metadata": {},
     "output_type": "execute_result"
    },
    {
     "data": {
      "image/png": "[encoded data removed]",
      "text/plain": [
       "<Figure size 720x360 with 2 Axes>"
      ]
     },
     "metadata": {
      "needs_background": "light"
     },
     "output_type": "display_data"
    }
   ],
   "source": [
    "#visualizing confusion matrix\n",
    "ylabel = [\"Actual [>=5yrs]\",\"Actual [<=5yrs]\"]\n",
    "xlabel = [\"Pred [>=5yrs]\",\"Pred [<=5yrs]\"]\n",
    "#sns.set(font_scale = 1.5)\n",
    "plt.figure(figsize=(10,5))\n",
    "sns.heatmap(conf4, annot=True, xticklabels = xlabel, yticklabels = ylabel, linecolor='black', linewidths=1)"
   ]
  },
  {
   "cell_type": "code",
   "execution_count": 99,
   "id": "2e007119",
   "metadata": {},
   "outputs": [
    {
     "name": "stdout",
     "output_type": "stream",
     "text": [
      "              precision    recall  f1-score   support\n",
      "\n",
      "           0       0.58      0.77      0.66       178\n",
      "           1       0.80      0.63      0.71       269\n",
      "\n",
      "    accuracy                           0.68       447\n",
      "   macro avg       0.69      0.70      0.68       447\n",
      "weighted avg       0.71      0.68      0.69       447\n",
      "\n"
     ]
    }
   ],
   "source": [
    "#classification report\n",
    "print(classification_report(y_test,y_pred))"
   ]
  },
  {
   "cell_type": "code",
   "execution_count": 100,
   "id": "c0402a5e",
   "metadata": {},
   "outputs": [],
   "source": [
    "#defining input and output\n",
    "x4 = df[df.columns[1:-1]].values #input\n",
    "y3 = df.iloc[:, -1].values #output"
   ]
  },
  {
   "cell_type": "code",
   "execution_count": 101,
   "id": "038c2c35",
   "metadata": {},
   "outputs": [
    {
     "data": {
      "text/plain": [
       "array([[36. , 27.4,  7.4, ...,  0.4,  0.4,  1.3],\n",
       "       [35. , 26.9,  7.2, ...,  1.1,  0.5,  1.6],\n",
       "       [74. , 15.3,  5.2, ...,  0.5,  0.3,  1. ],\n",
       "       ...,\n",
       "       [43. , 12.1,  5.4, ...,  0.3,  0.4,  0.9],\n",
       "       [52. , 12. ,  4.5, ...,  0.4,  0.1,  0.8],\n",
       "       [47. , 11.7,  4.4, ...,  0.7,  0.1,  0.9]])"
      ]
     },
     "execution_count": 101,
     "metadata": {},
     "output_type": "execute_result"
    }
   ],
   "source": [
    "x4"
   ]
  },
  {
   "cell_type": "code",
   "execution_count": 102,
   "id": "0ad5c986",
   "metadata": {},
   "outputs": [],
   "source": [
    "scaler = StandardScaler()\n",
    "x_new = scaler.fit_transform(x4)\n",
    "scaled_x4 = pd.DataFrame(x_new,  columns =['Games Played', 'Minutes Played', 'Points Per Game', 'Field Goals Made', 'Field Goals Attempt', 'Field Goal Percent', '3 Point Made', '3 Point Attempt', '3 Point Percent', 'Free Throw Made', 'Free Throw Attempt', 'Free Throw Percent', 'Offensive Rebounds', 'Defensive Rebounds', 'Rebounds', 'Assists', 'Steals', 'Blocks', 'Turnovers'])"
   ]
  },
  {
   "cell_type": "code",
   "execution_count": 103,
   "id": "d29e19e2",
   "metadata": {},
   "outputs": [],
   "source": [
    "x3=scaled_x4"
   ]
  },
  {
   "cell_type": "code",
   "execution_count": 104,
   "id": "c3dcad98",
   "metadata": {},
   "outputs": [],
   "source": [
    "# training and test sets:\n",
    "x3_train, x3_test, y3_train, y3_test = train_test_split(x3, y3, test_size= 1/3, \n",
    "random_state=0)"
   ]
  },
  {
   "cell_type": "code",
   "execution_count": 105,
   "id": "d219f8fe",
   "metadata": {},
   "outputs": [
    {
     "data": {
      "text/plain": [
       "LogisticRegression(max_iter=1000)"
      ]
     },
     "execution_count": 105,
     "metadata": {},
     "output_type": "execute_result"
    }
   ],
   "source": [
    "#Using logistic regression\n",
    "logre = LogisticRegression(max_iter=1000)\n",
    "logre.fit(x3_train, y3_train)"
   ]
  },
  {
   "cell_type": "code",
   "execution_count": 106,
   "id": "c487a9fe",
   "metadata": {},
   "outputs": [
    {
     "name": "stdout",
     "output_type": "stream",
     "text": [
      "Prediction: [0 0 1 0 1 0 1 1 0 1 1 0 1 1 1 1 0 1 1 0 1 1 0 1 1 1 0 0 1 0 1 1 0 0 1 1 1\n",
      " 1 0 1 1 1 1 1 1 1 1 1 1 1 1 1 0 1 1 1 1 1 0 0 1 1 1 1 1 1 0 0 1 1 1 1 1 1\n",
      " 1 0 1 0 1 0 1 1 0 1 1 0 1 1 1 0 1 1 0 1 1 1 0 1 1 0 1 1 1 0 1 1 1 1 1 0 1\n",
      " 1 1 0 0 1 1 1 0 0 1 1 1 0 0 1 1 0 1 1 1 1 1 0 1 0 1 0 0 1 1 1 0 0 0 0 0 1\n",
      " 0 1 0 0 0 1 1 1 1 0 1 1 0 1 0 0 1 1 1 0 0 0 1 1 1 1 1 1 0 1 1 1 1 1 0 0 1\n",
      " 0 1 1 1 1 1 1 1 0 1 1 0 1 1 1 1 1 0 1 1 1 1 0 0 1 1 1 0 0 0 0 1 1 0 0 0 1\n",
      " 1 1 0 1 1 1 0 1 1 0 0 1 1 1 1 1 1 0 1 0 0 1 0 1 1 1 0 1 0 1 1 1 0 0 1 1 0\n",
      " 1 1 1 1 0 1 1 0 1 1 1 1 0 1 1 1 0 1 0 1 1 0 1 0 0 0 1 1 1 1 1 1 1 0 1 1 0\n",
      " 0 1 1 0 1 1 1 1 1 1 1 1 0 1 1 1 1 1 1 1 0 1 1 1 1 1 1 0 1 1 1 1 1 1 1 0 1\n",
      " 1 1 1 0 0 1 1 1 0 0 1 1 0 1 0 1 0 1 1 1 1 0 1 1 1 1 1 1 1 1 1 1 0 1 1 1 1\n",
      " 1 0 0 0 1 1 1 1 1 1 1 1 1 1 0 1 1 0 1 0 0 1 0 1 0 1 0 0 1 1 1 0 1 1 1 0 1\n",
      " 1 1 1 1 1 1 1 0 1 1 1 1 1 1 0 0 1 0 0 1 0 1 1 1 1 1 1 1 1 0 1 1 1 0 1 1 1\n",
      " 1 0 1]\n"
     ]
    }
   ],
   "source": [
    "#predicting the dataset\n",
    "y3_pred = logre.predict(x3_test)\n",
    "print('Prediction:', y3_pred)"
   ]
  },
  {
   "cell_type": "code",
   "execution_count": 107,
   "id": "9e5f7f0a",
   "metadata": {},
   "outputs": [
    {
     "name": "stdout",
     "output_type": "stream",
     "text": [
      "Our Accuracy is 0.7159\n"
     ]
    }
   ],
   "source": [
    "#checking the accuracy of the model\n",
    "print('Our Accuracy is %.4f' % logre.score(x3_test, y3_test))"
   ]
  },
  {
   "cell_type": "code",
   "execution_count": 108,
   "id": "cf18d028",
   "metadata": {},
   "outputs": [
    {
     "name": "stdout",
     "output_type": "stream",
     "text": [
      "Number of mislabeled points out of a total 447 points : 127\n"
     ]
    }
   ],
   "source": [
    "#checking the number of mislabeled points\n",
    "print('Number of mislabeled points out of a total %d points : %d'\n",
    "% (x3_test.shape[0], (y3_test != logre.predict(x3_test)).sum()))"
   ]
  },
  {
   "cell_type": "code",
   "execution_count": 109,
   "id": "88b3d39f",
   "metadata": {},
   "outputs": [],
   "source": [
    "#confusion matrix\n",
    "conf5 = metrics.confusion_matrix(y3_test, y3_pred)"
   ]
  },
  {
   "cell_type": "code",
   "execution_count": 110,
   "id": "6ff7dae6",
   "metadata": {},
   "outputs": [
    {
     "data": {
      "text/plain": [
       "array([[ 93,  85],\n",
       "       [ 42, 227]])"
      ]
     },
     "execution_count": 110,
     "metadata": {},
     "output_type": "execute_result"
    }
   ],
   "source": [
    "conf5"
   ]
  },
  {
   "cell_type": "code",
   "execution_count": 111,
   "id": "4ebd7eac",
   "metadata": {},
   "outputs": [
    {
     "data": {
      "text/plain": [
       "<AxesSubplot:>"
      ]
     },
     "execution_count": 111,
     "metadata": {},
     "output_type": "execute_result"
    },
    {
     "data": {
      "image/png": "[encoded data removed]",
      "text/plain": [
       "<Figure size 720x360 with 2 Axes>"
      ]
     },
     "metadata": {
      "needs_background": "light"
     },
     "output_type": "display_data"
    }
   ],
   "source": [
    "#visualizing confusion matrix\n",
    "ylabel = [\"Actual [>=5yrs]\",\"Actual [<=5yrs]\"]\n",
    "xlabel = [\"Pred [>=5yrs]\",\"Pred [<=5yrs]\"]\n",
    "#sns.set(font_scale = 1.5)\n",
    "plt.figure(figsize=(10,5))\n",
    "sns.heatmap(conf5, annot=True, xticklabels = xlabel, yticklabels = ylabel, linecolor='black', linewidths=1)"
   ]
  },
  {
   "cell_type": "code",
   "execution_count": 112,
   "id": "71ed2b7e",
   "metadata": {},
   "outputs": [
    {
     "name": "stdout",
     "output_type": "stream",
     "text": [
      "              precision    recall  f1-score   support\n",
      "\n",
      "           0       0.69      0.52      0.59       178\n",
      "           1       0.73      0.84      0.78       269\n",
      "\n",
      "    accuracy                           0.72       447\n",
      "   macro avg       0.71      0.68      0.69       447\n",
      "weighted avg       0.71      0.72      0.71       447\n",
      "\n"
     ]
    }
   ],
   "source": [
    "#classification report\n",
    "print(classification_report(y3_test,y3_pred))"
   ]
  },
  {
   "cell_type": "code",
   "execution_count": 113,
   "id": "694d9720",
   "metadata": {},
   "outputs": [
    {
     "data": {
      "text/plain": [
       "GaussianNB()"
      ]
     },
     "execution_count": 113,
     "metadata": {},
     "output_type": "execute_result"
    }
   ],
   "source": [
    "#Training the data set with Guassian Naive Bayes Model\n",
    "Gnb = GaussianNB()\n",
    "Gnb.fit(x3_train, y3_train)"
   ]
  },
  {
   "cell_type": "code",
   "execution_count": 114,
   "id": "f3c5489a",
   "metadata": {},
   "outputs": [
    {
     "name": "stdout",
     "output_type": "stream",
     "text": [
      "Prediction: [0 0 1 0 1 0 1 1 0 1 1 0 1 1 1 1 0 1 1 0 1 1 0 1 1 1 0 0 1 0 1 1 0 0 1 1 1\n",
      " 1 0 1 1 1 1 1 1 1 1 1 1 1 1 1 0 1 1 1 1 1 0 0 1 1 1 1 1 1 0 0 1 1 1 1 1 1\n",
      " 1 0 1 0 1 0 1 1 0 1 1 0 1 1 1 0 1 1 0 1 1 1 0 1 1 0 1 1 1 0 1 1 1 1 1 0 1\n",
      " 1 1 0 0 1 1 1 0 0 1 1 1 0 0 1 1 0 1 1 1 1 1 0 1 0 1 0 0 1 1 1 0 0 0 0 0 1\n",
      " 0 1 0 0 0 1 1 1 1 0 1 1 0 1 0 0 1 1 1 0 0 0 1 1 1 1 1 1 0 1 1 1 1 1 0 0 1\n",
      " 0 1 1 1 1 1 1 1 0 1 1 0 1 1 1 1 1 0 1 1 1 1 0 0 1 1 1 0 0 0 0 1 1 0 0 0 1\n",
      " 1 1 0 1 1 1 0 1 1 0 0 1 1 1 1 1 1 0 1 0 0 1 0 1 1 1 0 1 0 1 1 1 0 0 1 1 0\n",
      " 1 1 1 1 0 1 1 0 1 1 1 1 0 1 1 1 0 1 0 1 1 0 1 0 0 0 1 1 1 1 1 1 1 0 1 1 0\n",
      " 0 1 1 0 1 1 1 1 1 1 1 1 0 1 1 1 1 1 1 1 0 1 1 1 1 1 1 0 1 1 1 1 1 1 1 0 1\n",
      " 1 1 1 0 0 1 1 1 0 0 1 1 0 1 0 1 0 1 1 1 1 0 1 1 1 1 1 1 1 1 1 1 0 1 1 1 1\n",
      " 1 0 0 0 1 1 1 1 1 1 1 1 1 1 0 1 1 0 1 0 0 1 0 1 0 1 0 0 1 1 1 0 1 1 1 0 1\n",
      " 1 1 1 1 1 1 1 0 1 1 1 1 1 1 0 0 1 0 0 1 0 1 1 1 1 1 1 1 1 0 1 1 1 0 1 1 1\n",
      " 1 0 1]\n"
     ]
    }
   ],
   "source": [
    "y_pred = logre.predict(x3_test)\n",
    "print('Prediction:', y3_pred)"
   ]
  },
  {
   "cell_type": "code",
   "execution_count": 115,
   "id": "7b4eaa99",
   "metadata": {},
   "outputs": [
    {
     "name": "stdout",
     "output_type": "stream",
     "text": [
      "Our Accuracy is 0.6734\n"
     ]
    }
   ],
   "source": [
    "#checking the accuracy of the model\n",
    "print('Our Accuracy is %.4f' % Gnb.score(x3_test, y3_test))"
   ]
  },
  {
   "cell_type": "code",
   "execution_count": 116,
   "id": "9a76d7b5",
   "metadata": {},
   "outputs": [
    {
     "name": "stdout",
     "output_type": "stream",
     "text": [
      "Number of mislabeled points out of a total 447 points : 146\n"
     ]
    }
   ],
   "source": [
    "#checking the number of mislabeled points\n",
    "print('Number of mislabeled points out of a total %d points : %d'\n",
    "% (x3_test.shape[0], (y3_test != Gnb.predict(x3_test)).sum()))"
   ]
  },
  {
   "cell_type": "code",
   "execution_count": 117,
   "id": "10a7df4a",
   "metadata": {},
   "outputs": [],
   "source": [
    "#confusion matrix\n",
    "conf6 = metrics.confusion_matrix(y3_test, y3_pred)"
   ]
  },
  {
   "cell_type": "code",
   "execution_count": 118,
   "id": "568f0840",
   "metadata": {},
   "outputs": [
    {
     "data": {
      "text/plain": [
       "array([[ 93,  85],\n",
       "       [ 42, 227]])"
      ]
     },
     "execution_count": 118,
     "metadata": {},
     "output_type": "execute_result"
    }
   ],
   "source": [
    "conf6"
   ]
  },
  {
   "cell_type": "code",
   "execution_count": 119,
   "id": "c7b4c87e",
   "metadata": {},
   "outputs": [
    {
     "data": {
      "text/plain": [
       "<AxesSubplot:>"
      ]
     },
     "execution_count": 119,
     "metadata": {},
     "output_type": "execute_result"
    },
    {
     "data": {
      "image/png": "[encoded data removed]",
      "text/plain": [
       "<Figure size 720x360 with 2 Axes>"
      ]
     },
     "metadata": {
      "needs_background": "light"
     },
     "output_type": "display_data"
    }
   ],
   "source": [
    "#visualizing confusion matrix\n",
    "ylabel = [\"Actual [>=5yrs]\",\"Actual [<=5yrs]\"]\n",
    "xlabel = [\"Pred [>=5yrs]\",\"Pred [<=5yrs]\"]\n",
    "#sns.set(font_scale = 1.5)\n",
    "plt.figure(figsize=(10,5))\n",
    "sns.heatmap(conf6, annot=True, xticklabels = xlabel, yticklabels = ylabel, linecolor='black', linewidths=1)"
   ]
  },
  {
   "cell_type": "code",
   "execution_count": 120,
   "id": "9cfbb342",
   "metadata": {},
   "outputs": [
    {
     "name": "stdout",
     "output_type": "stream",
     "text": [
      "              precision    recall  f1-score   support\n",
      "\n",
      "           0       0.69      0.52      0.59       178\n",
      "           1       0.73      0.84      0.78       269\n",
      "\n",
      "    accuracy                           0.72       447\n",
      "   macro avg       0.71      0.68      0.69       447\n",
      "weighted avg       0.71      0.72      0.71       447\n",
      "\n"
     ]
    }
   ],
   "source": [
    "#classification report\n",
    "print(classification_report(y3_test,y3_pred))"
   ]
  },
  {
   "cell_type": "code",
   "execution_count": 121,
   "id": "34011f4e",
   "metadata": {},
   "outputs": [
    {
     "data": {
      "text/plain": [
       "MLPClassifier(activation='logistic', hidden_layer_sizes=(), max_iter=2000,\n",
       "              random_state=0)"
      ]
     },
     "execution_count": 121,
     "metadata": {},
     "output_type": "execute_result"
    }
   ],
   "source": [
    "#Neural Network\n",
    "#Training the data set with MLP classifier\n",
    "mlp = MLPClassifier(hidden_layer_sizes=(), activation=\"logistic\", random_state=0, max_iter = 2000)\n",
    "mlp.fit(x3_train, y3_train)"
   ]
  },
  {
   "cell_type": "code",
   "execution_count": 122,
   "id": "42903ab6",
   "metadata": {},
   "outputs": [
    {
     "name": "stdout",
     "output_type": "stream",
     "text": [
      "Prediction: [0 0 1 0 1 0 1 1 1 1 1 0 1 1 1 1 0 1 1 0 1 1 0 1 1 1 0 0 1 1 1 1 0 0 1 1 1\n",
      " 1 0 1 1 1 1 1 1 1 1 1 1 1 1 1 0 1 1 1 1 1 0 0 1 1 0 1 1 1 0 0 1 1 1 1 1 1\n",
      " 1 1 1 0 1 0 1 1 0 1 1 0 1 1 1 0 0 1 0 1 1 1 0 1 1 0 1 1 1 0 1 1 1 1 1 0 1\n",
      " 1 1 0 0 1 1 1 0 1 1 1 1 1 0 1 1 0 1 1 1 1 1 0 1 1 1 0 0 1 1 1 0 0 0 0 0 1\n",
      " 0 1 0 0 0 1 1 1 1 0 1 1 0 1 0 0 1 1 1 0 0 0 1 1 1 1 1 1 0 1 1 1 1 1 0 0 1\n",
      " 0 1 1 1 1 1 1 1 0 1 1 0 1 1 1 1 1 0 1 1 1 1 0 0 1 1 1 0 0 0 0 1 1 0 0 0 1\n",
      " 1 1 0 1 1 1 0 1 1 0 0 1 1 0 1 1 1 0 1 0 0 1 0 1 1 1 0 1 0 1 1 1 0 0 1 1 0\n",
      " 1 1 1 0 1 1 1 0 1 1 0 1 0 1 1 1 0 1 0 1 1 0 1 0 0 0 1 1 1 1 1 1 1 0 1 1 0\n",
      " 0 1 1 0 1 1 1 1 1 1 1 1 0 1 1 1 1 1 1 1 0 1 1 1 0 1 1 1 1 1 1 1 1 1 1 1 1\n",
      " 1 1 1 0 1 1 1 1 0 0 1 1 0 1 0 1 0 1 1 0 1 0 1 1 1 1 1 1 1 1 1 1 0 1 1 1 1\n",
      " 1 0 0 0 1 1 1 1 1 1 1 1 1 0 0 1 1 1 1 0 0 1 0 1 0 1 0 0 1 1 1 0 1 1 0 0 1\n",
      " 1 1 1 1 1 1 1 0 1 1 1 0 1 1 0 0 1 0 0 1 1 1 1 1 1 1 1 1 1 0 1 1 1 0 1 1 1\n",
      " 1 0 1]\n"
     ]
    }
   ],
   "source": [
    "#Testing the model\n",
    "y3_pred = mlp.predict(x3_test)\n",
    "print('Prediction:', y3_pred)"
   ]
  },
  {
   "cell_type": "code",
   "execution_count": 123,
   "id": "4f039265",
   "metadata": {},
   "outputs": [
    {
     "name": "stdout",
     "output_type": "stream",
     "text": [
      "Our Accuracy is 0.7204\n"
     ]
    }
   ],
   "source": [
    "#Accuracy of the model\n",
    "print('Our Accuracy is %.4f' % mlp.score(x3_test, y3_test))"
   ]
  },
  {
   "cell_type": "code",
   "execution_count": 124,
   "id": "01e9dd04",
   "metadata": {},
   "outputs": [
    {
     "name": "stdout",
     "output_type": "stream",
     "text": [
      "Number of mislabeled points out of a total 447 points : 125\n"
     ]
    }
   ],
   "source": [
    "#number of mislabeled points\n",
    "print('Number of mislabeled points out of a total %d points : %d'\n",
    "% (x3_test.shape[0], (y3_test != mlp.predict(x3_test)).sum()))"
   ]
  },
  {
   "cell_type": "code",
   "execution_count": 125,
   "id": "68a31ced",
   "metadata": {},
   "outputs": [],
   "source": [
    "#confusion matrix\n",
    "conf7 = metrics.confusion_matrix(y3_test, y3_pred)"
   ]
  },
  {
   "cell_type": "code",
   "execution_count": 126,
   "id": "9e540b3e",
   "metadata": {},
   "outputs": [
    {
     "data": {
      "text/plain": [
       "array([[ 93,  85],\n",
       "       [ 40, 229]])"
      ]
     },
     "execution_count": 126,
     "metadata": {},
     "output_type": "execute_result"
    }
   ],
   "source": [
    "conf7"
   ]
  },
  {
   "cell_type": "code",
   "execution_count": 127,
   "id": "24770530",
   "metadata": {},
   "outputs": [
    {
     "data": {
      "text/plain": [
       "<AxesSubplot:>"
      ]
     },
     "execution_count": 127,
     "metadata": {},
     "output_type": "execute_result"
    },
    {
     "data": {
      "image/png": "[encoded data removed]",
      "text/plain": [
       "<Figure size 720x360 with 2 Axes>"
      ]
     },
     "metadata": {
      "needs_background": "light"
     },
     "output_type": "display_data"
    }
   ],
   "source": [
    "#visualizing confusion matrix\n",
    "ylabel = [\"Actual [>=5yrs]\",\"Actual [<=5yrs]\"]\n",
    "xlabel = [\"Pred [>=5yrs]\",\"Pred [<=5yrs]\"]\n",
    "#sns.set(font_scale = 1.5)\n",
    "plt.figure(figsize=(10,5))\n",
    "sns.heatmap(conf7, annot=True, xticklabels = xlabel, yticklabels = ylabel, linecolor='black', linewidths=1)"
   ]
  },
  {
   "cell_type": "code",
   "execution_count": 128,
   "id": "b75c2e3e",
   "metadata": {},
   "outputs": [
    {
     "name": "stdout",
     "output_type": "stream",
     "text": [
      "              precision    recall  f1-score   support\n",
      "\n",
      "           0       0.70      0.52      0.60       178\n",
      "           1       0.73      0.85      0.79       269\n",
      "\n",
      "    accuracy                           0.72       447\n",
      "   macro avg       0.71      0.69      0.69       447\n",
      "weighted avg       0.72      0.72      0.71       447\n",
      "\n"
     ]
    }
   ],
   "source": [
    "#classification report\n",
    "print(classification_report(y3_test,y3_pred))"
   ]
  },
  {
   "cell_type": "code",
   "execution_count": null,
   "id": "8690d276",
   "metadata": {},
   "outputs": [],
   "source": []
  }
 ],
 "metadata": {
  "kernelspec": {
   "display_name": "Python 3 (ipykernel)",
   "language": "python",
   "name": "python3"
  },
  "language_info": {
   "codemirror_mode": {
    "name": "ipython",
    "version": 3
   },
   "file_extension": ".py",
   "mimetype": "text/x-python",
   "name": "python",
   "nbconvert_exporter": "python",
   "pygments_lexer": "ipython3",
   "version": "3.9.12"
  }
 },
 "nbformat": 4,
 "nbformat_minor": 5
}
